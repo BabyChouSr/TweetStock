{
 "metadata": {
  "language_info": {
   "codemirror_mode": {
    "name": "ipython",
    "version": 3
   },
   "file_extension": ".py",
   "mimetype": "text/x-python",
   "name": "python",
   "nbconvert_exporter": "python",
   "pygments_lexer": "ipython3",
   "version": "3.6.10-final"
  },
  "orig_nbformat": 2,
  "kernelspec": {
   "name": "python3",
   "display_name": "Python 3",
   "language": "python"
  }
 },
 "nbformat": 4,
 "nbformat_minor": 2,
 "cells": [
  {
   "cell_type": "code",
   "execution_count": 3,
   "metadata": {},
   "outputs": [],
   "source": [
    "import sys\n",
    "import pandas as pd \n",
    "import numpy as np \n",
    "import seaborn as sns\n",
    "import tensorflow.keras \n",
    "import matplotlib.pyplot as plt\n",
    "from sklearn.preprocessing import MinMaxScaler\n",
    "from tensorflow.keras.models import Model, Sequential\n",
    "from tensorflow.keras.layers import Dense, Input, Dropout, LSTM, Activation, Lambda, dot, Activation, concatenate,  Layer"
   ]
  },
  {
   "cell_type": "code",
   "execution_count": 84,
   "metadata": {},
   "outputs": [
    {
     "output_type": "execute_result",
     "data": {
      "text/plain": [
       "   Unnamed: 0 symbol                                            message  \\\n",
       "0           0    SPX  $spy $spx looking for more green tomorrow but ...   \n",
       "1           1    SPX  $SPY Can just use this Headline for the next 4...   \n",
       "2           2    SPX  $SPX +0.2%, $NDX +0.6% \\nAll about FOMC and St...   \n",
       "3           3    SPX  S&amp;P 500 Stocks At X-Day High [15-Dec]:\\n\\n...   \n",
       "4           4    SPX  $SPY $SPX Wilshire 5000 Broad Measure Cycle is...   \n",
       "\n",
       "               datetime     user  message_id  sentiment  \n",
       "0  2020-12-16T21:15:21Z   226994   264863118        NaN  \n",
       "1  2020-12-16T21:11:34Z  1078695   264861500        0.0  \n",
       "2  2020-12-16T21:07:06Z   322291   264859501        NaN  \n",
       "3  2020-12-16T21:00:45Z   313661   264856112        NaN  \n",
       "4  2020-12-16T21:00:20Z    21210   264855893        1.0  "
      ],
      "text/html": "<div>\n<style scoped>\n    .dataframe tbody tr th:only-of-type {\n        vertical-align: middle;\n    }\n\n    .dataframe tbody tr th {\n        vertical-align: top;\n    }\n\n    .dataframe thead th {\n        text-align: right;\n    }\n</style>\n<table border=\"1\" class=\"dataframe\">\n  <thead>\n    <tr style=\"text-align: right;\">\n      <th></th>\n      <th>Unnamed: 0</th>\n      <th>symbol</th>\n      <th>message</th>\n      <th>datetime</th>\n      <th>user</th>\n      <th>message_id</th>\n      <th>sentiment</th>\n    </tr>\n  </thead>\n  <tbody>\n    <tr>\n      <th>0</th>\n      <td>0</td>\n      <td>SPX</td>\n      <td>$spy $spx looking for more green tomorrow but ...</td>\n      <td>2020-12-16T21:15:21Z</td>\n      <td>226994</td>\n      <td>264863118</td>\n      <td>NaN</td>\n    </tr>\n    <tr>\n      <th>1</th>\n      <td>1</td>\n      <td>SPX</td>\n      <td>$SPY Can just use this Headline for the next 4...</td>\n      <td>2020-12-16T21:11:34Z</td>\n      <td>1078695</td>\n      <td>264861500</td>\n      <td>0.0</td>\n    </tr>\n    <tr>\n      <th>2</th>\n      <td>2</td>\n      <td>SPX</td>\n      <td>$SPX +0.2%, $NDX +0.6% \\nAll about FOMC and St...</td>\n      <td>2020-12-16T21:07:06Z</td>\n      <td>322291</td>\n      <td>264859501</td>\n      <td>NaN</td>\n    </tr>\n    <tr>\n      <th>3</th>\n      <td>3</td>\n      <td>SPX</td>\n      <td>S&amp;amp;P 500 Stocks At X-Day High [15-Dec]:\\n\\n...</td>\n      <td>2020-12-16T21:00:45Z</td>\n      <td>313661</td>\n      <td>264856112</td>\n      <td>NaN</td>\n    </tr>\n    <tr>\n      <th>4</th>\n      <td>4</td>\n      <td>SPX</td>\n      <td>$SPY $SPX Wilshire 5000 Broad Measure Cycle is...</td>\n      <td>2020-12-16T21:00:20Z</td>\n      <td>21210</td>\n      <td>264855893</td>\n      <td>1.0</td>\n    </tr>\n  </tbody>\n</table>\n</div>"
     },
     "metadata": {},
     "execution_count": 84
    }
   ],
   "source": [
    "dfstocks = pd.read_csv('../../../data/S&PFinanceData2020.csv',parse_dates = True)\n",
    "dftweets = pd.read_csv('../../../data/stocktwits_SPXClassified.csv', parse_dates = True)\n",
    "dftweets.head()"
   ]
  },
  {
   "cell_type": "code",
   "execution_count": 85,
   "metadata": {},
   "outputs": [],
   "source": [
    "def sentimentIndex(x):\n",
    "    return np.log( (1 + x[1]) / (1 + x[0]))"
   ]
  },
  {
   "cell_type": "code",
   "execution_count": 86,
   "metadata": {},
   "outputs": [
    {
     "output_type": "stream",
     "name": "stdout",
     "text": [
      "datetime\n2020-01-01     4\n2020-01-02    23\n2020-01-03    15\n2020-01-04     2\n2020-01-05     2\n              ..\n2020-12-12    17\n2020-12-13    17\n2020-12-14    29\n2020-12-15    19\n2020-12-16    17\nName: 1, Length: 351, dtype: int64\n"
     ]
    },
    {
     "output_type": "execute_result",
     "data": {
      "text/plain": [
       "    0   1  sentimentIndex       Date         Open         High          Low  \\\n",
       "1  58  15       -1.304949 2020-01-03  3226.360107  3246.149902  3222.340088   \n",
       "2  14  13       -0.068993 2020-01-06  3217.550049  3246.840088  3214.639893   \n",
       "3  23  19       -0.182322 2020-01-07  3241.860107  3244.909912  3232.429932   \n",
       "4  22  35        0.448025 2020-01-08  3238.590088  3267.070068  3236.669922   \n",
       "5  21  15       -0.318454 2020-01-09  3266.030029  3275.580078  3263.669922   \n",
       "\n",
       "         Close    Adj Close      Volume  Difference  Direction  \n",
       "1  3234.850098  3234.850098  3461290000  -23.000000          0  \n",
       "2  3246.280029  3246.280029  3674070000   11.429932          1  \n",
       "3  3237.179932  3237.179932  3420380000   -9.100098          0  \n",
       "4  3253.050049  3253.050049  3720890000   15.870117          1  \n",
       "5  3274.699951  3274.699951  3638390000   21.649902          1  "
      ],
      "text/html": "<div>\n<style scoped>\n    .dataframe tbody tr th:only-of-type {\n        vertical-align: middle;\n    }\n\n    .dataframe tbody tr th {\n        vertical-align: top;\n    }\n\n    .dataframe thead th {\n        text-align: right;\n    }\n</style>\n<table border=\"1\" class=\"dataframe\">\n  <thead>\n    <tr style=\"text-align: right;\">\n      <th></th>\n      <th>0</th>\n      <th>1</th>\n      <th>sentimentIndex</th>\n      <th>Date</th>\n      <th>Open</th>\n      <th>High</th>\n      <th>Low</th>\n      <th>Close</th>\n      <th>Adj Close</th>\n      <th>Volume</th>\n      <th>Difference</th>\n      <th>Direction</th>\n    </tr>\n  </thead>\n  <tbody>\n    <tr>\n      <th>1</th>\n      <td>58</td>\n      <td>15</td>\n      <td>-1.304949</td>\n      <td>2020-01-03</td>\n      <td>3226.360107</td>\n      <td>3246.149902</td>\n      <td>3222.340088</td>\n      <td>3234.850098</td>\n      <td>3234.850098</td>\n      <td>3461290000</td>\n      <td>-23.000000</td>\n      <td>0</td>\n    </tr>\n    <tr>\n      <th>2</th>\n      <td>14</td>\n      <td>13</td>\n      <td>-0.068993</td>\n      <td>2020-01-06</td>\n      <td>3217.550049</td>\n      <td>3246.840088</td>\n      <td>3214.639893</td>\n      <td>3246.280029</td>\n      <td>3246.280029</td>\n      <td>3674070000</td>\n      <td>11.429932</td>\n      <td>1</td>\n    </tr>\n    <tr>\n      <th>3</th>\n      <td>23</td>\n      <td>19</td>\n      <td>-0.182322</td>\n      <td>2020-01-07</td>\n      <td>3241.860107</td>\n      <td>3244.909912</td>\n      <td>3232.429932</td>\n      <td>3237.179932</td>\n      <td>3237.179932</td>\n      <td>3420380000</td>\n      <td>-9.100098</td>\n      <td>0</td>\n    </tr>\n    <tr>\n      <th>4</th>\n      <td>22</td>\n      <td>35</td>\n      <td>0.448025</td>\n      <td>2020-01-08</td>\n      <td>3238.590088</td>\n      <td>3267.070068</td>\n      <td>3236.669922</td>\n      <td>3253.050049</td>\n      <td>3253.050049</td>\n      <td>3720890000</td>\n      <td>15.870117</td>\n      <td>1</td>\n    </tr>\n    <tr>\n      <th>5</th>\n      <td>21</td>\n      <td>15</td>\n      <td>-0.318454</td>\n      <td>2020-01-09</td>\n      <td>3266.030029</td>\n      <td>3275.580078</td>\n      <td>3263.669922</td>\n      <td>3274.699951</td>\n      <td>3274.699951</td>\n      <td>3638390000</td>\n      <td>21.649902</td>\n      <td>1</td>\n    </tr>\n  </tbody>\n</table>\n</div>"
     },
     "metadata": {},
     "execution_count": 86
    }
   ],
   "source": [
    "dftweets = dftweets.dropna()\n",
    "dftweets['sentiment'] = dftweets['sentiment'].astype('int')\n",
    "rowsdifference = dfstocks.iloc[:, 5]\n",
    "dfstocks['Difference'] = rowsdifference.diff()\n",
    "dfstocks['Date'] = pd.to_datetime(dfstocks['Date'])\n",
    "dfstocks['Difference'].iloc[0] = 0\n",
    "dftweets['datetime'] = pd.to_datetime(dftweets['datetime'])\n",
    "dftweets['datetime'] = pd.to_datetime(dftweets['datetime'].dt.date)\n",
    "dftweets = dftweets[(dftweets['datetime']>= \"2020-01-01\") & (dftweets['datetime']< \"2021-01-01\")]\n",
    "dftweets = dftweets.pivot_table(index='datetime',columns='sentiment', aggfunc='size')\n",
    "print(dftweets[1])\n",
    "dftweets['sentimentIndex'] = dftweets.apply(sentimentIndex, axis = 1)\n",
    "\n",
    "dftweets.sort_values('datetime', inplace=True, ascending=True)\n",
    "#rowsdiff2 = dftweets['sentimentIndex']\n",
    "#dfstocks.set_index('Date').diff()\n",
    "#rowsdiff2.diff()\n",
    "#dftweets['Differencetweets'] = rowsdiff2\n",
    "#dftweets['Differencetweets'].iloc[0] = 0\n",
    "\n",
    "\n",
    "merged = pd.merge(left=dftweets, left_on='datetime',\n",
    "         right=dfstocks, right_on='Date')\n",
    "direction = []\n",
    "for i in merged['Difference']:\n",
    "    if i > 0:\n",
    "        direction.append(1)\n",
    "    else:\n",
    "        direction.append(0)\n",
    "merged['Direction'] = direction\n",
    "merged = merged[1:]\n",
    "\n",
    "merged.head()"
   ]
  },
  {
   "cell_type": "code",
   "execution_count": 87,
   "metadata": {},
   "outputs": [],
   "source": [
    "def series_to_supervised(data, n_in=1, n_out=1, dropnan=True):\n",
    "\tn_vars = 1 if type(data) is list else data.shape[1]\n",
    "\tdf = pd.DataFrame(data)\n",
    "\tcols, names = list(), list()\n",
    "\t# input sequence (t-n, ... t-1)\n",
    "\tfor i in range(n_in, 0, -1):\n",
    "\t\tcols.append(df.shift(i))\n",
    "\t\tnames += [('var%d(t-%d)' % (j+1, i)) for j in range(n_vars)]\n",
    "\t# forecast sequence (t, t+1, ... t+n)\n",
    "\tfor i in range(0, n_out):\n",
    "\t\tcols.append(df.shift(-i))\n",
    "\t\tif i == 0:\n",
    "\t\t\tnames += [('var%d(t)' % (j+1)) for j in range(n_vars)]\n",
    "\t\telse:\n",
    "\t\t\tnames += [('var%d(t+%d)' % (j+1, i)) for j in range(n_vars)]\n",
    "\t# put it all together\n",
    "\tagg = pd.concat(cols, axis=1)\n",
    "\tagg.columns = names\n",
    "\t# drop rows with NaN values\n",
    "\tif dropnan:\n",
    "\t\tagg.dropna(inplace=True)\n",
    "\treturn agg\n"
   ]
  },
  {
   "source": [
    "### BASELINE"
   ],
   "cell_type": "markdown",
   "metadata": {}
  },
  {
   "cell_type": "code",
   "execution_count": 89,
   "metadata": {},
   "outputs": [
    {
     "output_type": "stream",
     "name": "stdout",
     "text": [
      "[7, 8, 9, 10, 11, 12]\n"
     ]
    },
    {
     "output_type": "execute_result",
     "data": {
      "text/plain": [
       "     var1(t-1)  var2(t-1)  var3(t-1)  var4(t-1)  var5(t-1)  var6(t-1)  \\\n",
       "1     0.661111   0.669722   0.688497   0.680923   0.108971   0.680923   \n",
       "2     0.654886   0.670211   0.683352   0.688726   0.142928   0.688726   \n",
       "3     0.672063   0.668844   0.695238   0.682513   0.102443   0.682513   \n",
       "4     0.669752   0.684542   0.698071   0.693347   0.150400   0.693347   \n",
       "5     0.689141   0.690570   0.716111   0.708127   0.137234   0.708127   \n",
       "..         ...        ...        ...        ...        ...        ...   \n",
       "237   1.000000   1.000000   0.981272   0.979909   0.388030   0.979909   \n",
       "238   0.966897   0.975986   0.971010   0.976687   0.293604   0.976687   \n",
       "239   0.964742   0.967074   0.963139   0.973520   0.253533   0.973520   \n",
       "240   0.978301   0.989530   0.971451   0.962617   0.289882   0.962617   \n",
       "241   0.972041   0.987887   0.980658   0.994791   0.252437   0.994791   \n",
       "\n",
       "     var7(t-1)  var7(t)  \n",
       "1          0.0      1.0  \n",
       "2          1.0      0.0  \n",
       "3          0.0      1.0  \n",
       "4          1.0      1.0  \n",
       "5          1.0      0.0  \n",
       "..         ...      ...  \n",
       "237        0.0      0.0  \n",
       "238        0.0      0.0  \n",
       "239        0.0      0.0  \n",
       "240        0.0      1.0  \n",
       "241        1.0      1.0  \n",
       "\n",
       "[241 rows x 8 columns]"
      ],
      "text/html": "<div>\n<style scoped>\n    .dataframe tbody tr th:only-of-type {\n        vertical-align: middle;\n    }\n\n    .dataframe tbody tr th {\n        vertical-align: top;\n    }\n\n    .dataframe thead th {\n        text-align: right;\n    }\n</style>\n<table border=\"1\" class=\"dataframe\">\n  <thead>\n    <tr style=\"text-align: right;\">\n      <th></th>\n      <th>var1(t-1)</th>\n      <th>var2(t-1)</th>\n      <th>var3(t-1)</th>\n      <th>var4(t-1)</th>\n      <th>var5(t-1)</th>\n      <th>var6(t-1)</th>\n      <th>var7(t-1)</th>\n      <th>var7(t)</th>\n    </tr>\n  </thead>\n  <tbody>\n    <tr>\n      <th>1</th>\n      <td>0.661111</td>\n      <td>0.669722</td>\n      <td>0.688497</td>\n      <td>0.680923</td>\n      <td>0.108971</td>\n      <td>0.680923</td>\n      <td>0.0</td>\n      <td>1.0</td>\n    </tr>\n    <tr>\n      <th>2</th>\n      <td>0.654886</td>\n      <td>0.670211</td>\n      <td>0.683352</td>\n      <td>0.688726</td>\n      <td>0.142928</td>\n      <td>0.688726</td>\n      <td>1.0</td>\n      <td>0.0</td>\n    </tr>\n    <tr>\n      <th>3</th>\n      <td>0.672063</td>\n      <td>0.668844</td>\n      <td>0.695238</td>\n      <td>0.682513</td>\n      <td>0.102443</td>\n      <td>0.682513</td>\n      <td>0.0</td>\n      <td>1.0</td>\n    </tr>\n    <tr>\n      <th>4</th>\n      <td>0.669752</td>\n      <td>0.684542</td>\n      <td>0.698071</td>\n      <td>0.693347</td>\n      <td>0.150400</td>\n      <td>0.693347</td>\n      <td>1.0</td>\n      <td>1.0</td>\n    </tr>\n    <tr>\n      <th>5</th>\n      <td>0.689141</td>\n      <td>0.690570</td>\n      <td>0.716111</td>\n      <td>0.708127</td>\n      <td>0.137234</td>\n      <td>0.708127</td>\n      <td>1.0</td>\n      <td>0.0</td>\n    </tr>\n    <tr>\n      <th>...</th>\n      <td>...</td>\n      <td>...</td>\n      <td>...</td>\n      <td>...</td>\n      <td>...</td>\n      <td>...</td>\n      <td>...</td>\n      <td>...</td>\n    </tr>\n    <tr>\n      <th>237</th>\n      <td>1.000000</td>\n      <td>1.000000</td>\n      <td>0.981272</td>\n      <td>0.979909</td>\n      <td>0.388030</td>\n      <td>0.979909</td>\n      <td>0.0</td>\n      <td>0.0</td>\n    </tr>\n    <tr>\n      <th>238</th>\n      <td>0.966897</td>\n      <td>0.975986</td>\n      <td>0.971010</td>\n      <td>0.976687</td>\n      <td>0.293604</td>\n      <td>0.976687</td>\n      <td>0.0</td>\n      <td>0.0</td>\n    </tr>\n    <tr>\n      <th>239</th>\n      <td>0.964742</td>\n      <td>0.967074</td>\n      <td>0.963139</td>\n      <td>0.973520</td>\n      <td>0.253533</td>\n      <td>0.973520</td>\n      <td>0.0</td>\n      <td>0.0</td>\n    </tr>\n    <tr>\n      <th>240</th>\n      <td>0.978301</td>\n      <td>0.989530</td>\n      <td>0.971451</td>\n      <td>0.962617</td>\n      <td>0.289882</td>\n      <td>0.962617</td>\n      <td>0.0</td>\n      <td>1.0</td>\n    </tr>\n    <tr>\n      <th>241</th>\n      <td>0.972041</td>\n      <td>0.987887</td>\n      <td>0.980658</td>\n      <td>0.994791</td>\n      <td>0.252437</td>\n      <td>0.994791</td>\n      <td>1.0</td>\n      <td>1.0</td>\n    </tr>\n  </tbody>\n</table>\n<p>241 rows × 8 columns</p>\n</div>"
     },
     "metadata": {},
     "execution_count": 89
    }
   ],
   "source": [
    "merged_sim  = merged[ ['Open', 'High', 'Low', 'Adj Close', 'Volume','Close', 'Direction']]\n",
    "\n",
    "n_days = 1\n",
    "n_features = 7\n",
    "dataset = merged_sim.values\n",
    "dataset = dataset.astype('float32')\n",
    "scaler = MinMaxScaler(feature_range=(0, 1))\n",
    "dataset = scaler.fit_transform(dataset)\n",
    "dataset = series_to_supervised(dataset, n_days,1)\n",
    "\n",
    "droplist = []\n",
    "for i in range(n_features*n_days, n_features*n_days + 6):\n",
    "    droplist.append(i)\n",
    "print(droplist)\n",
    "dataset.drop(dataset.columns[droplist], axis = 1, inplace = True)\n",
    "dataset"
   ]
  },
  {
   "cell_type": "code",
   "execution_count": 90,
   "metadata": {},
   "outputs": [],
   "source": [
    "train_size = int(merged.shape[0]*0.7)\n",
    "\n",
    "n_obs = n_days * n_features\n",
    "values = dataset.values\n",
    "train, test =  values[0:train_size, :], values[train_size:len(values), :]\n",
    "train_X, train_y = train[:,:n_obs], train[:,-1]\n",
    "test_X, test_y = test[:,:n_obs], test[:,-1]\n",
    "train_X = train_X.reshape((train_X.shape[0], n_days, n_features))\n",
    "test_X = test_X.reshape((test_X.shape[0], n_days, n_features))"
   ]
  },
  {
   "cell_type": "code",
   "execution_count": 91,
   "metadata": {},
   "outputs": [],
   "source": [
    "batch_size = 32\n",
    "time_steps = 1\n",
    "input_dim = (train_X.shape[1], train_X.shape[2])\n",
    "#np.random.seed(420)\n",
    "epochs = 50"
   ]
  },
  {
   "cell_type": "code",
   "execution_count": 93,
   "metadata": {},
   "outputs": [
    {
     "output_type": "stream",
     "name": "stdout",
     "text": [
      "Epoch 1/50\n",
      "6/6 [==============================] - 2s 81ms/step - loss: 0.6939 - accuracy: 0.5245 - val_loss: 0.6990 - val_accuracy: 0.5278\n",
      "Epoch 2/50\n",
      "6/6 [==============================] - 0s 10ms/step - loss: 0.6710 - accuracy: 0.6077 - val_loss: 0.7298 - val_accuracy: 0.5278\n",
      "Epoch 3/50\n",
      "6/6 [==============================] - 0s 11ms/step - loss: 0.6698 - accuracy: 0.5936 - val_loss: 0.7197 - val_accuracy: 0.5278\n",
      "Epoch 4/50\n",
      "6/6 [==============================] - 0s 11ms/step - loss: 0.6613 - accuracy: 0.6074 - val_loss: 0.7224 - val_accuracy: 0.5278\n",
      "Epoch 5/50\n",
      "6/6 [==============================] - 0s 10ms/step - loss: 0.6632 - accuracy: 0.5993 - val_loss: 0.7219 - val_accuracy: 0.5278\n",
      "Epoch 6/50\n",
      "6/6 [==============================] - 0s 10ms/step - loss: 0.6589 - accuracy: 0.6213 - val_loss: 0.7299 - val_accuracy: 0.5278\n",
      "Epoch 7/50\n",
      "6/6 [==============================] - 0s 11ms/step - loss: 0.6652 - accuracy: 0.6225 - val_loss: 0.7327 - val_accuracy: 0.5278\n",
      "Epoch 8/50\n",
      "6/6 [==============================] - 0s 10ms/step - loss: 0.6394 - accuracy: 0.6249 - val_loss: 0.7282 - val_accuracy: 0.5278\n",
      "Epoch 9/50\n",
      "6/6 [==============================] - 0s 11ms/step - loss: 0.6501 - accuracy: 0.6093 - val_loss: 0.7334 - val_accuracy: 0.5278\n",
      "Epoch 10/50\n",
      "6/6 [==============================] - 0s 10ms/step - loss: 0.6666 - accuracy: 0.6341 - val_loss: 0.7629 - val_accuracy: 0.5278\n",
      "Epoch 11/50\n",
      "6/6 [==============================] - 0s 10ms/step - loss: 0.6425 - accuracy: 0.6312 - val_loss: 0.7582 - val_accuracy: 0.5278\n",
      "Epoch 12/50\n",
      "6/6 [==============================] - 0s 11ms/step - loss: 0.6562 - accuracy: 0.6166 - val_loss: 0.7131 - val_accuracy: 0.5139\n",
      "Epoch 13/50\n",
      "6/6 [==============================] - 0s 10ms/step - loss: 0.6500 - accuracy: 0.6593 - val_loss: 0.7150 - val_accuracy: 0.5000\n",
      "Epoch 14/50\n",
      "6/6 [==============================] - 0s 10ms/step - loss: 0.6464 - accuracy: 0.6248 - val_loss: 0.7303 - val_accuracy: 0.5278\n",
      "Epoch 15/50\n",
      "6/6 [==============================] - 0s 12ms/step - loss: 0.6541 - accuracy: 0.6238 - val_loss: 0.7410 - val_accuracy: 0.5278\n",
      "Epoch 16/50\n",
      "6/6 [==============================] - 0s 11ms/step - loss: 0.6509 - accuracy: 0.6202 - val_loss: 0.7548 - val_accuracy: 0.5278\n",
      "Epoch 17/50\n",
      "6/6 [==============================] - 0s 12ms/step - loss: 0.6540 - accuracy: 0.6437 - val_loss: 0.7344 - val_accuracy: 0.5278\n",
      "Epoch 18/50\n",
      "6/6 [==============================] - 0s 12ms/step - loss: 0.6488 - accuracy: 0.6169 - val_loss: 0.7258 - val_accuracy: 0.5278\n",
      "Epoch 19/50\n",
      "6/6 [==============================] - 0s 14ms/step - loss: 0.6428 - accuracy: 0.6569 - val_loss: 0.7486 - val_accuracy: 0.5278\n",
      "Epoch 20/50\n",
      "6/6 [==============================] - 0s 13ms/step - loss: 0.6410 - accuracy: 0.6369 - val_loss: 0.7598 - val_accuracy: 0.5278\n",
      "Epoch 21/50\n",
      "6/6 [==============================] - 0s 11ms/step - loss: 0.6617 - accuracy: 0.5730 - val_loss: 0.7293 - val_accuracy: 0.5278\n",
      "Epoch 22/50\n",
      "6/6 [==============================] - 0s 12ms/step - loss: 0.6605 - accuracy: 0.6178 - val_loss: 0.7311 - val_accuracy: 0.5278\n",
      "Epoch 23/50\n",
      "6/6 [==============================] - 0s 11ms/step - loss: 0.6271 - accuracy: 0.6472 - val_loss: 0.7454 - val_accuracy: 0.5278\n",
      "Epoch 24/50\n",
      "6/6 [==============================] - 0s 11ms/step - loss: 0.6456 - accuracy: 0.6275 - val_loss: 0.7357 - val_accuracy: 0.5278\n",
      "Epoch 25/50\n",
      "6/6 [==============================] - 0s 12ms/step - loss: 0.6575 - accuracy: 0.5876 - val_loss: 0.7252 - val_accuracy: 0.5278\n",
      "Epoch 26/50\n",
      "6/6 [==============================] - 0s 11ms/step - loss: 0.6498 - accuracy: 0.6021 - val_loss: 0.7403 - val_accuracy: 0.5278\n",
      "Epoch 27/50\n",
      "6/6 [==============================] - 0s 12ms/step - loss: 0.6600 - accuracy: 0.6117 - val_loss: 0.7281 - val_accuracy: 0.5278\n",
      "Epoch 28/50\n",
      "6/6 [==============================] - 0s 12ms/step - loss: 0.6633 - accuracy: 0.5896 - val_loss: 0.7336 - val_accuracy: 0.5278\n",
      "Epoch 29/50\n",
      "6/6 [==============================] - 0s 10ms/step - loss: 0.6561 - accuracy: 0.6048 - val_loss: 0.7321 - val_accuracy: 0.5278\n",
      "Epoch 30/50\n",
      "6/6 [==============================] - 0s 11ms/step - loss: 0.6379 - accuracy: 0.6309 - val_loss: 0.7451 - val_accuracy: 0.5278\n",
      "Epoch 31/50\n",
      "6/6 [==============================] - 0s 11ms/step - loss: 0.6510 - accuracy: 0.6130 - val_loss: 0.7272 - val_accuracy: 0.5278\n",
      "Epoch 32/50\n",
      "6/6 [==============================] - 0s 12ms/step - loss: 0.6680 - accuracy: 0.5813 - val_loss: 0.7074 - val_accuracy: 0.5000\n",
      "Epoch 33/50\n",
      "6/6 [==============================] - 0s 14ms/step - loss: 0.6315 - accuracy: 0.6717 - val_loss: 0.7395 - val_accuracy: 0.5278\n",
      "Epoch 34/50\n",
      "6/6 [==============================] - 0s 12ms/step - loss: 0.6360 - accuracy: 0.6402 - val_loss: 0.7351 - val_accuracy: 0.5278\n",
      "Epoch 35/50\n",
      "6/6 [==============================] - 0s 12ms/step - loss: 0.6545 - accuracy: 0.5933 - val_loss: 0.7392 - val_accuracy: 0.5278\n",
      "Epoch 36/50\n",
      "6/6 [==============================] - 0s 52ms/step - loss: 0.6571 - accuracy: 0.6037 - val_loss: 0.7332 - val_accuracy: 0.5278\n",
      "Epoch 37/50\n",
      "6/6 [==============================] - 0s 12ms/step - loss: 0.6464 - accuracy: 0.6525 - val_loss: 0.7361 - val_accuracy: 0.5278\n",
      "Epoch 38/50\n",
      "6/6 [==============================] - 0s 12ms/step - loss: 0.6445 - accuracy: 0.6269 - val_loss: 0.7254 - val_accuracy: 0.5278\n",
      "Epoch 39/50\n",
      "6/6 [==============================] - 0s 13ms/step - loss: 0.6456 - accuracy: 0.6307 - val_loss: 0.7150 - val_accuracy: 0.5278\n",
      "Epoch 40/50\n",
      "6/6 [==============================] - 0s 13ms/step - loss: 0.6366 - accuracy: 0.6396 - val_loss: 0.7124 - val_accuracy: 0.5278\n",
      "Epoch 41/50\n",
      "6/6 [==============================] - 0s 13ms/step - loss: 0.6371 - accuracy: 0.6306 - val_loss: 0.7127 - val_accuracy: 0.5278\n",
      "Epoch 42/50\n",
      "6/6 [==============================] - 0s 12ms/step - loss: 0.6517 - accuracy: 0.5909 - val_loss: 0.7062 - val_accuracy: 0.5278\n",
      "Epoch 43/50\n",
      "6/6 [==============================] - 0s 10ms/step - loss: 0.6473 - accuracy: 0.6361 - val_loss: 0.7078 - val_accuracy: 0.5278\n",
      "Epoch 44/50\n",
      "6/6 [==============================] - 0s 11ms/step - loss: 0.6560 - accuracy: 0.6090 - val_loss: 0.7154 - val_accuracy: 0.5278\n",
      "Epoch 45/50\n",
      "6/6 [==============================] - 0s 10ms/step - loss: 0.6550 - accuracy: 0.6116 - val_loss: 0.7276 - val_accuracy: 0.5278\n",
      "Epoch 46/50\n",
      "6/6 [==============================] - 0s 11ms/step - loss: 0.6294 - accuracy: 0.6712 - val_loss: 0.7396 - val_accuracy: 0.5278\n",
      "Epoch 47/50\n",
      "6/6 [==============================] - 0s 11ms/step - loss: 0.6482 - accuracy: 0.6277 - val_loss: 0.7128 - val_accuracy: 0.5278\n",
      "Epoch 48/50\n",
      "6/6 [==============================] - 0s 11ms/step - loss: 0.6359 - accuracy: 0.6589 - val_loss: 0.7159 - val_accuracy: 0.5278\n",
      "Epoch 49/50\n",
      "6/6 [==============================] - 0s 10ms/step - loss: 0.6607 - accuracy: 0.5764 - val_loss: 0.7097 - val_accuracy: 0.5278\n",
      "Epoch 50/50\n",
      "6/6 [==============================] - 0s 11ms/step - loss: 0.6571 - accuracy: 0.5992 - val_loss: 0.7182 - val_accuracy: 0.5278\n"
     ]
    },
    {
     "output_type": "display_data",
     "data": {
      "text/plain": "<Figure size 432x288 with 1 Axes>",
      "image/svg+xml": "<?xml version=\"1.0\" encoding=\"utf-8\" standalone=\"no\"?>\r\n<!DOCTYPE svg PUBLIC \"-//W3C//DTD SVG 1.1//EN\"\r\n  \"http://www.w3.org/Graphics/SVG/1.1/DTD/svg11.dtd\">\r\n<!-- Created with matplotlib (https://matplotlib.org/) -->\r\n<svg height=\"248.518125pt\" version=\"1.1\" viewBox=\"0 0 378.465625 248.518125\" width=\"378.465625pt\" xmlns=\"http://www.w3.org/2000/svg\" xmlns:xlink=\"http://www.w3.org/1999/xlink\">\r\n <metadata>\r\n  <rdf:RDF xmlns:cc=\"http://creativecommons.org/ns#\" xmlns:dc=\"http://purl.org/dc/elements/1.1/\" xmlns:rdf=\"http://www.w3.org/1999/02/22-rdf-syntax-ns#\">\r\n   <cc:Work>\r\n    <dc:type rdf:resource=\"http://purl.org/dc/dcmitype/StillImage\"/>\r\n    <dc:date>2020-12-24T14:31:37.752444</dc:date>\r\n    <dc:format>image/svg+xml</dc:format>\r\n    <dc:creator>\r\n     <cc:Agent>\r\n      <dc:title>Matplotlib v3.3.2, https://matplotlib.org/</dc:title>\r\n     </cc:Agent>\r\n    </dc:creator>\r\n   </cc:Work>\r\n  </rdf:RDF>\r\n </metadata>\r\n <defs>\r\n  <style type=\"text/css\">*{stroke-linecap:butt;stroke-linejoin:round;}</style>\r\n </defs>\r\n <g id=\"figure_1\">\r\n  <g id=\"patch_1\">\r\n   <path d=\"M 0 248.518125 \r\nL 378.465625 248.518125 \r\nL 378.465625 0 \r\nL 0 0 \r\nz\r\n\" style=\"fill:none;\"/>\r\n  </g>\r\n  <g id=\"axes_1\">\r\n   <g id=\"patch_2\">\r\n    <path d=\"M 36.465625 224.64 \r\nL 371.265625 224.64 \r\nL 371.265625 7.2 \r\nL 36.465625 7.2 \r\nz\r\n\" style=\"fill:#ffffff;\"/>\r\n   </g>\r\n   <g id=\"matplotlib.axis_1\">\r\n    <g id=\"xtick_1\">\r\n     <g id=\"line2d_1\">\r\n      <defs>\r\n       <path d=\"M 0 0 \r\nL 0 3.5 \r\n\" id=\"m1da1f4b5b1\" style=\"stroke:#000000;stroke-width:0.8;\"/>\r\n      </defs>\r\n      <g>\r\n       <use style=\"stroke:#000000;stroke-width:0.8;\" x=\"51.683807\" xlink:href=\"#m1da1f4b5b1\" y=\"224.64\"/>\r\n      </g>\r\n     </g>\r\n     <g id=\"text_1\">\r\n      <!-- 0 -->\r\n      <g transform=\"translate(48.502557 239.238437)scale(0.1 -0.1)\">\r\n       <defs>\r\n        <path d=\"M 31.78125 66.40625 \r\nQ 24.171875 66.40625 20.328125 58.90625 \r\nQ 16.5 51.421875 16.5 36.375 \r\nQ 16.5 21.390625 20.328125 13.890625 \r\nQ 24.171875 6.390625 31.78125 6.390625 \r\nQ 39.453125 6.390625 43.28125 13.890625 \r\nQ 47.125 21.390625 47.125 36.375 \r\nQ 47.125 51.421875 43.28125 58.90625 \r\nQ 39.453125 66.40625 31.78125 66.40625 \r\nz\r\nM 31.78125 74.21875 \r\nQ 44.046875 74.21875 50.515625 64.515625 \r\nQ 56.984375 54.828125 56.984375 36.375 \r\nQ 56.984375 17.96875 50.515625 8.265625 \r\nQ 44.046875 -1.421875 31.78125 -1.421875 \r\nQ 19.53125 -1.421875 13.0625 8.265625 \r\nQ 6.59375 17.96875 6.59375 36.375 \r\nQ 6.59375 54.828125 13.0625 64.515625 \r\nQ 19.53125 74.21875 31.78125 74.21875 \r\nz\r\n\" id=\"DejaVuSans-48\"/>\r\n       </defs>\r\n       <use xlink:href=\"#DejaVuSans-48\"/>\r\n      </g>\r\n     </g>\r\n    </g>\r\n    <g id=\"xtick_2\">\r\n     <g id=\"line2d_2\">\r\n      <g>\r\n       <use style=\"stroke:#000000;stroke-width:0.8;\" x=\"113.798835\" xlink:href=\"#m1da1f4b5b1\" y=\"224.64\"/>\r\n      </g>\r\n     </g>\r\n     <g id=\"text_2\">\r\n      <!-- 10 -->\r\n      <g transform=\"translate(107.436335 239.238437)scale(0.1 -0.1)\">\r\n       <defs>\r\n        <path d=\"M 12.40625 8.296875 \r\nL 28.515625 8.296875 \r\nL 28.515625 63.921875 \r\nL 10.984375 60.40625 \r\nL 10.984375 69.390625 \r\nL 28.421875 72.90625 \r\nL 38.28125 72.90625 \r\nL 38.28125 8.296875 \r\nL 54.390625 8.296875 \r\nL 54.390625 0 \r\nL 12.40625 0 \r\nz\r\n\" id=\"DejaVuSans-49\"/>\r\n       </defs>\r\n       <use xlink:href=\"#DejaVuSans-49\"/>\r\n       <use x=\"63.623047\" xlink:href=\"#DejaVuSans-48\"/>\r\n      </g>\r\n     </g>\r\n    </g>\r\n    <g id=\"xtick_3\">\r\n     <g id=\"line2d_3\">\r\n      <g>\r\n       <use style=\"stroke:#000000;stroke-width:0.8;\" x=\"175.913862\" xlink:href=\"#m1da1f4b5b1\" y=\"224.64\"/>\r\n      </g>\r\n     </g>\r\n     <g id=\"text_3\">\r\n      <!-- 20 -->\r\n      <g transform=\"translate(169.551362 239.238437)scale(0.1 -0.1)\">\r\n       <defs>\r\n        <path d=\"M 19.1875 8.296875 \r\nL 53.609375 8.296875 \r\nL 53.609375 0 \r\nL 7.328125 0 \r\nL 7.328125 8.296875 \r\nQ 12.9375 14.109375 22.625 23.890625 \r\nQ 32.328125 33.6875 34.8125 36.53125 \r\nQ 39.546875 41.84375 41.421875 45.53125 \r\nQ 43.3125 49.21875 43.3125 52.78125 \r\nQ 43.3125 58.59375 39.234375 62.25 \r\nQ 35.15625 65.921875 28.609375 65.921875 \r\nQ 23.96875 65.921875 18.8125 64.3125 \r\nQ 13.671875 62.703125 7.8125 59.421875 \r\nL 7.8125 69.390625 \r\nQ 13.765625 71.78125 18.9375 73 \r\nQ 24.125 74.21875 28.421875 74.21875 \r\nQ 39.75 74.21875 46.484375 68.546875 \r\nQ 53.21875 62.890625 53.21875 53.421875 \r\nQ 53.21875 48.921875 51.53125 44.890625 \r\nQ 49.859375 40.875 45.40625 35.40625 \r\nQ 44.1875 33.984375 37.640625 27.21875 \r\nQ 31.109375 20.453125 19.1875 8.296875 \r\nz\r\n\" id=\"DejaVuSans-50\"/>\r\n       </defs>\r\n       <use xlink:href=\"#DejaVuSans-50\"/>\r\n       <use x=\"63.623047\" xlink:href=\"#DejaVuSans-48\"/>\r\n      </g>\r\n     </g>\r\n    </g>\r\n    <g id=\"xtick_4\">\r\n     <g id=\"line2d_4\">\r\n      <g>\r\n       <use style=\"stroke:#000000;stroke-width:0.8;\" x=\"238.02889\" xlink:href=\"#m1da1f4b5b1\" y=\"224.64\"/>\r\n      </g>\r\n     </g>\r\n     <g id=\"text_4\">\r\n      <!-- 30 -->\r\n      <g transform=\"translate(231.66639 239.238437)scale(0.1 -0.1)\">\r\n       <defs>\r\n        <path d=\"M 40.578125 39.3125 \r\nQ 47.65625 37.796875 51.625 33 \r\nQ 55.609375 28.21875 55.609375 21.1875 \r\nQ 55.609375 10.40625 48.1875 4.484375 \r\nQ 40.765625 -1.421875 27.09375 -1.421875 \r\nQ 22.515625 -1.421875 17.65625 -0.515625 \r\nQ 12.796875 0.390625 7.625 2.203125 \r\nL 7.625 11.71875 \r\nQ 11.71875 9.328125 16.59375 8.109375 \r\nQ 21.484375 6.890625 26.8125 6.890625 \r\nQ 36.078125 6.890625 40.9375 10.546875 \r\nQ 45.796875 14.203125 45.796875 21.1875 \r\nQ 45.796875 27.640625 41.28125 31.265625 \r\nQ 36.765625 34.90625 28.71875 34.90625 \r\nL 20.21875 34.90625 \r\nL 20.21875 43.015625 \r\nL 29.109375 43.015625 \r\nQ 36.375 43.015625 40.234375 45.921875 \r\nQ 44.09375 48.828125 44.09375 54.296875 \r\nQ 44.09375 59.90625 40.109375 62.90625 \r\nQ 36.140625 65.921875 28.71875 65.921875 \r\nQ 24.65625 65.921875 20.015625 65.03125 \r\nQ 15.375 64.15625 9.8125 62.3125 \r\nL 9.8125 71.09375 \r\nQ 15.4375 72.65625 20.34375 73.4375 \r\nQ 25.25 74.21875 29.59375 74.21875 \r\nQ 40.828125 74.21875 47.359375 69.109375 \r\nQ 53.90625 64.015625 53.90625 55.328125 \r\nQ 53.90625 49.265625 50.4375 45.09375 \r\nQ 46.96875 40.921875 40.578125 39.3125 \r\nz\r\n\" id=\"DejaVuSans-51\"/>\r\n       </defs>\r\n       <use xlink:href=\"#DejaVuSans-51\"/>\r\n       <use x=\"63.623047\" xlink:href=\"#DejaVuSans-48\"/>\r\n      </g>\r\n     </g>\r\n    </g>\r\n    <g id=\"xtick_5\">\r\n     <g id=\"line2d_5\">\r\n      <g>\r\n       <use style=\"stroke:#000000;stroke-width:0.8;\" x=\"300.143918\" xlink:href=\"#m1da1f4b5b1\" y=\"224.64\"/>\r\n      </g>\r\n     </g>\r\n     <g id=\"text_5\">\r\n      <!-- 40 -->\r\n      <g transform=\"translate(293.781418 239.238437)scale(0.1 -0.1)\">\r\n       <defs>\r\n        <path d=\"M 37.796875 64.3125 \r\nL 12.890625 25.390625 \r\nL 37.796875 25.390625 \r\nz\r\nM 35.203125 72.90625 \r\nL 47.609375 72.90625 \r\nL 47.609375 25.390625 \r\nL 58.015625 25.390625 \r\nL 58.015625 17.1875 \r\nL 47.609375 17.1875 \r\nL 47.609375 0 \r\nL 37.796875 0 \r\nL 37.796875 17.1875 \r\nL 4.890625 17.1875 \r\nL 4.890625 26.703125 \r\nz\r\n\" id=\"DejaVuSans-52\"/>\r\n       </defs>\r\n       <use xlink:href=\"#DejaVuSans-52\"/>\r\n       <use x=\"63.623047\" xlink:href=\"#DejaVuSans-48\"/>\r\n      </g>\r\n     </g>\r\n    </g>\r\n    <g id=\"xtick_6\">\r\n     <g id=\"line2d_6\">\r\n      <g>\r\n       <use style=\"stroke:#000000;stroke-width:0.8;\" x=\"362.258946\" xlink:href=\"#m1da1f4b5b1\" y=\"224.64\"/>\r\n      </g>\r\n     </g>\r\n     <g id=\"text_6\">\r\n      <!-- 50 -->\r\n      <g transform=\"translate(355.896446 239.238437)scale(0.1 -0.1)\">\r\n       <defs>\r\n        <path d=\"M 10.796875 72.90625 \r\nL 49.515625 72.90625 \r\nL 49.515625 64.59375 \r\nL 19.828125 64.59375 \r\nL 19.828125 46.734375 \r\nQ 21.96875 47.46875 24.109375 47.828125 \r\nQ 26.265625 48.1875 28.421875 48.1875 \r\nQ 40.625 48.1875 47.75 41.5 \r\nQ 54.890625 34.8125 54.890625 23.390625 \r\nQ 54.890625 11.625 47.5625 5.09375 \r\nQ 40.234375 -1.421875 26.90625 -1.421875 \r\nQ 22.3125 -1.421875 17.546875 -0.640625 \r\nQ 12.796875 0.140625 7.71875 1.703125 \r\nL 7.71875 11.625 \r\nQ 12.109375 9.234375 16.796875 8.0625 \r\nQ 21.484375 6.890625 26.703125 6.890625 \r\nQ 35.15625 6.890625 40.078125 11.328125 \r\nQ 45.015625 15.765625 45.015625 23.390625 \r\nQ 45.015625 31 40.078125 35.4375 \r\nQ 35.15625 39.890625 26.703125 39.890625 \r\nQ 22.75 39.890625 18.8125 39.015625 \r\nQ 14.890625 38.140625 10.796875 36.28125 \r\nz\r\n\" id=\"DejaVuSans-53\"/>\r\n       </defs>\r\n       <use xlink:href=\"#DejaVuSans-53\"/>\r\n       <use x=\"63.623047\" xlink:href=\"#DejaVuSans-48\"/>\r\n      </g>\r\n     </g>\r\n    </g>\r\n   </g>\r\n   <g id=\"matplotlib.axis_2\">\r\n    <g id=\"ytick_1\">\r\n     <g id=\"line2d_7\">\r\n      <defs>\r\n       <path d=\"M 0 0 \r\nL -3.5 0 \r\n\" id=\"m8c02a082a9\" style=\"stroke:#000000;stroke-width:0.8;\"/>\r\n      </defs>\r\n      <g>\r\n       <use style=\"stroke:#000000;stroke-width:0.8;\" x=\"36.465625\" xlink:href=\"#m8c02a082a9\" y=\"214.756364\"/>\r\n      </g>\r\n     </g>\r\n     <g id=\"text_7\">\r\n      <!-- 0.50 -->\r\n      <g transform=\"translate(7.2 218.555582)scale(0.1 -0.1)\">\r\n       <defs>\r\n        <path d=\"M 10.6875 12.40625 \r\nL 21 12.40625 \r\nL 21 0 \r\nL 10.6875 0 \r\nz\r\n\" id=\"DejaVuSans-46\"/>\r\n       </defs>\r\n       <use xlink:href=\"#DejaVuSans-48\"/>\r\n       <use x=\"63.623047\" xlink:href=\"#DejaVuSans-46\"/>\r\n       <use x=\"95.410156\" xlink:href=\"#DejaVuSans-53\"/>\r\n       <use x=\"159.033203\" xlink:href=\"#DejaVuSans-48\"/>\r\n      </g>\r\n     </g>\r\n    </g>\r\n    <g id=\"ytick_2\">\r\n     <g id=\"line2d_8\">\r\n      <g>\r\n       <use style=\"stroke:#000000;stroke-width:0.8;\" x=\"36.465625\" xlink:href=\"#m8c02a082a9\" y=\"187.485596\"/>\r\n      </g>\r\n     </g>\r\n     <g id=\"text_8\">\r\n      <!-- 0.52 -->\r\n      <g transform=\"translate(7.2 191.284815)scale(0.1 -0.1)\">\r\n       <use xlink:href=\"#DejaVuSans-48\"/>\r\n       <use x=\"63.623047\" xlink:href=\"#DejaVuSans-46\"/>\r\n       <use x=\"95.410156\" xlink:href=\"#DejaVuSans-53\"/>\r\n       <use x=\"159.033203\" xlink:href=\"#DejaVuSans-50\"/>\r\n      </g>\r\n     </g>\r\n    </g>\r\n    <g id=\"ytick_3\">\r\n     <g id=\"line2d_9\">\r\n      <g>\r\n       <use style=\"stroke:#000000;stroke-width:0.8;\" x=\"36.465625\" xlink:href=\"#m8c02a082a9\" y=\"160.214829\"/>\r\n      </g>\r\n     </g>\r\n     <g id=\"text_9\">\r\n      <!-- 0.54 -->\r\n      <g transform=\"translate(7.2 164.014047)scale(0.1 -0.1)\">\r\n       <use xlink:href=\"#DejaVuSans-48\"/>\r\n       <use x=\"63.623047\" xlink:href=\"#DejaVuSans-46\"/>\r\n       <use x=\"95.410156\" xlink:href=\"#DejaVuSans-53\"/>\r\n       <use x=\"159.033203\" xlink:href=\"#DejaVuSans-52\"/>\r\n      </g>\r\n     </g>\r\n    </g>\r\n    <g id=\"ytick_4\">\r\n     <g id=\"line2d_10\">\r\n      <g>\r\n       <use style=\"stroke:#000000;stroke-width:0.8;\" x=\"36.465625\" xlink:href=\"#m8c02a082a9\" y=\"132.944061\"/>\r\n      </g>\r\n     </g>\r\n     <g id=\"text_10\">\r\n      <!-- 0.56 -->\r\n      <g transform=\"translate(7.2 136.74328)scale(0.1 -0.1)\">\r\n       <defs>\r\n        <path d=\"M 33.015625 40.375 \r\nQ 26.375 40.375 22.484375 35.828125 \r\nQ 18.609375 31.296875 18.609375 23.390625 \r\nQ 18.609375 15.53125 22.484375 10.953125 \r\nQ 26.375 6.390625 33.015625 6.390625 \r\nQ 39.65625 6.390625 43.53125 10.953125 \r\nQ 47.40625 15.53125 47.40625 23.390625 \r\nQ 47.40625 31.296875 43.53125 35.828125 \r\nQ 39.65625 40.375 33.015625 40.375 \r\nz\r\nM 52.59375 71.296875 \r\nL 52.59375 62.3125 \r\nQ 48.875 64.0625 45.09375 64.984375 \r\nQ 41.3125 65.921875 37.59375 65.921875 \r\nQ 27.828125 65.921875 22.671875 59.328125 \r\nQ 17.53125 52.734375 16.796875 39.40625 \r\nQ 19.671875 43.65625 24.015625 45.921875 \r\nQ 28.375 48.1875 33.59375 48.1875 \r\nQ 44.578125 48.1875 50.953125 41.515625 \r\nQ 57.328125 34.859375 57.328125 23.390625 \r\nQ 57.328125 12.15625 50.6875 5.359375 \r\nQ 44.046875 -1.421875 33.015625 -1.421875 \r\nQ 20.359375 -1.421875 13.671875 8.265625 \r\nQ 6.984375 17.96875 6.984375 36.375 \r\nQ 6.984375 53.65625 15.1875 63.9375 \r\nQ 23.390625 74.21875 37.203125 74.21875 \r\nQ 40.921875 74.21875 44.703125 73.484375 \r\nQ 48.484375 72.75 52.59375 71.296875 \r\nz\r\n\" id=\"DejaVuSans-54\"/>\r\n       </defs>\r\n       <use xlink:href=\"#DejaVuSans-48\"/>\r\n       <use x=\"63.623047\" xlink:href=\"#DejaVuSans-46\"/>\r\n       <use x=\"95.410156\" xlink:href=\"#DejaVuSans-53\"/>\r\n       <use x=\"159.033203\" xlink:href=\"#DejaVuSans-54\"/>\r\n      </g>\r\n     </g>\r\n    </g>\r\n    <g id=\"ytick_5\">\r\n     <g id=\"line2d_11\">\r\n      <g>\r\n       <use style=\"stroke:#000000;stroke-width:0.8;\" x=\"36.465625\" xlink:href=\"#m8c02a082a9\" y=\"105.673293\"/>\r\n      </g>\r\n     </g>\r\n     <g id=\"text_11\">\r\n      <!-- 0.58 -->\r\n      <g transform=\"translate(7.2 109.472512)scale(0.1 -0.1)\">\r\n       <defs>\r\n        <path d=\"M 31.78125 34.625 \r\nQ 24.75 34.625 20.71875 30.859375 \r\nQ 16.703125 27.09375 16.703125 20.515625 \r\nQ 16.703125 13.921875 20.71875 10.15625 \r\nQ 24.75 6.390625 31.78125 6.390625 \r\nQ 38.8125 6.390625 42.859375 10.171875 \r\nQ 46.921875 13.96875 46.921875 20.515625 \r\nQ 46.921875 27.09375 42.890625 30.859375 \r\nQ 38.875 34.625 31.78125 34.625 \r\nz\r\nM 21.921875 38.8125 \r\nQ 15.578125 40.375 12.03125 44.71875 \r\nQ 8.5 49.078125 8.5 55.328125 \r\nQ 8.5 64.0625 14.71875 69.140625 \r\nQ 20.953125 74.21875 31.78125 74.21875 \r\nQ 42.671875 74.21875 48.875 69.140625 \r\nQ 55.078125 64.0625 55.078125 55.328125 \r\nQ 55.078125 49.078125 51.53125 44.71875 \r\nQ 48 40.375 41.703125 38.8125 \r\nQ 48.828125 37.15625 52.796875 32.3125 \r\nQ 56.78125 27.484375 56.78125 20.515625 \r\nQ 56.78125 9.90625 50.3125 4.234375 \r\nQ 43.84375 -1.421875 31.78125 -1.421875 \r\nQ 19.734375 -1.421875 13.25 4.234375 \r\nQ 6.78125 9.90625 6.78125 20.515625 \r\nQ 6.78125 27.484375 10.78125 32.3125 \r\nQ 14.796875 37.15625 21.921875 38.8125 \r\nz\r\nM 18.3125 54.390625 \r\nQ 18.3125 48.734375 21.84375 45.5625 \r\nQ 25.390625 42.390625 31.78125 42.390625 \r\nQ 38.140625 42.390625 41.71875 45.5625 \r\nQ 45.3125 48.734375 45.3125 54.390625 \r\nQ 45.3125 60.0625 41.71875 63.234375 \r\nQ 38.140625 66.40625 31.78125 66.40625 \r\nQ 25.390625 66.40625 21.84375 63.234375 \r\nQ 18.3125 60.0625 18.3125 54.390625 \r\nz\r\n\" id=\"DejaVuSans-56\"/>\r\n       </defs>\r\n       <use xlink:href=\"#DejaVuSans-48\"/>\r\n       <use x=\"63.623047\" xlink:href=\"#DejaVuSans-46\"/>\r\n       <use x=\"95.410156\" xlink:href=\"#DejaVuSans-53\"/>\r\n       <use x=\"159.033203\" xlink:href=\"#DejaVuSans-56\"/>\r\n      </g>\r\n     </g>\r\n    </g>\r\n    <g id=\"ytick_6\">\r\n     <g id=\"line2d_12\">\r\n      <g>\r\n       <use style=\"stroke:#000000;stroke-width:0.8;\" x=\"36.465625\" xlink:href=\"#m8c02a082a9\" y=\"78.402526\"/>\r\n      </g>\r\n     </g>\r\n     <g id=\"text_12\">\r\n      <!-- 0.60 -->\r\n      <g transform=\"translate(7.2 82.201745)scale(0.1 -0.1)\">\r\n       <use xlink:href=\"#DejaVuSans-48\"/>\r\n       <use x=\"63.623047\" xlink:href=\"#DejaVuSans-46\"/>\r\n       <use x=\"95.410156\" xlink:href=\"#DejaVuSans-54\"/>\r\n       <use x=\"159.033203\" xlink:href=\"#DejaVuSans-48\"/>\r\n      </g>\r\n     </g>\r\n    </g>\r\n    <g id=\"ytick_7\">\r\n     <g id=\"line2d_13\">\r\n      <g>\r\n       <use style=\"stroke:#000000;stroke-width:0.8;\" x=\"36.465625\" xlink:href=\"#m8c02a082a9\" y=\"51.131758\"/>\r\n      </g>\r\n     </g>\r\n     <g id=\"text_13\">\r\n      <!-- 0.62 -->\r\n      <g transform=\"translate(7.2 54.930977)scale(0.1 -0.1)\">\r\n       <use xlink:href=\"#DejaVuSans-48\"/>\r\n       <use x=\"63.623047\" xlink:href=\"#DejaVuSans-46\"/>\r\n       <use x=\"95.410156\" xlink:href=\"#DejaVuSans-54\"/>\r\n       <use x=\"159.033203\" xlink:href=\"#DejaVuSans-50\"/>\r\n      </g>\r\n     </g>\r\n    </g>\r\n    <g id=\"ytick_8\">\r\n     <g id=\"line2d_14\">\r\n      <g>\r\n       <use style=\"stroke:#000000;stroke-width:0.8;\" x=\"36.465625\" xlink:href=\"#m8c02a082a9\" y=\"23.860991\"/>\r\n      </g>\r\n     </g>\r\n     <g id=\"text_14\">\r\n      <!-- 0.64 -->\r\n      <g transform=\"translate(7.2 27.660209)scale(0.1 -0.1)\">\r\n       <use xlink:href=\"#DejaVuSans-48\"/>\r\n       <use x=\"63.623047\" xlink:href=\"#DejaVuSans-46\"/>\r\n       <use x=\"95.410156\" xlink:href=\"#DejaVuSans-54\"/>\r\n       <use x=\"159.033203\" xlink:href=\"#DejaVuSans-52\"/>\r\n      </g>\r\n     </g>\r\n    </g>\r\n   </g>\r\n   <g id=\"line2d_15\">\r\n    <path clip-path=\"url(#pbe17d8a7c8)\" d=\"M 51.683807 113.902961 \r\nL 57.89531 89.698089 \r\nL 64.106812 81.629853 \r\nL 70.318315 57.424981 \r\nL 76.529818 57.424981 \r\nL 82.741321 41.288427 \r\nL 88.952824 49.356745 \r\nL 95.164326 57.424981 \r\nL 101.375829 57.424981 \r\nL 107.587332 25.151954 \r\nL 113.798835 49.356745 \r\nL 120.010337 57.424981 \r\nL 126.22184 17.083636 \r\nL 132.433343 33.220191 \r\nL 138.644846 33.220191 \r\nL 144.856349 49.356745 \r\nL 151.067851 49.356745 \r\nL 157.279354 49.356745 \r\nL 163.490857 41.288427 \r\nL 169.70236 49.356745 \r\nL 175.913862 65.493299 \r\nL 182.125365 57.424981 \r\nL 188.336868 49.356745 \r\nL 194.548371 49.356745 \r\nL 200.759874 57.424981 \r\nL 206.971376 73.561535 \r\nL 213.182879 41.288427 \r\nL 219.394382 49.356745 \r\nL 225.605885 49.356745 \r\nL 231.817388 49.356745 \r\nL 238.02889 65.493299 \r\nL 244.240393 97.766407 \r\nL 250.451896 41.288427 \r\nL 256.663399 65.493299 \r\nL 262.874901 57.424981 \r\nL 269.086404 33.220191 \r\nL 275.297907 33.220191 \r\nL 281.50941 49.356745 \r\nL 287.720913 65.493299 \r\nL 293.932415 49.356745 \r\nL 300.143918 49.356745 \r\nL 306.355421 57.424981 \r\nL 312.566924 49.356745 \r\nL 318.778426 49.356745 \r\nL 324.989929 41.288427 \r\nL 331.201432 41.288427 \r\nL 337.412935 41.288427 \r\nL 343.624438 41.288427 \r\nL 349.83594 57.424981 \r\nL 356.047443 57.424981 \r\n\" style=\"fill:none;stroke:#1f77b4;stroke-linecap:square;stroke-width:1.5;\"/>\r\n   </g>\r\n   <g id=\"line2d_16\">\r\n    <path clip-path=\"url(#pbe17d8a7c8)\" d=\"M 51.683807 176.88028 \r\nL 57.89531 176.88028 \r\nL 64.106812 176.88028 \r\nL 70.318315 176.88028 \r\nL 76.529818 176.88028 \r\nL 82.741321 176.88028 \r\nL 88.952824 176.88028 \r\nL 95.164326 176.88028 \r\nL 101.375829 176.88028 \r\nL 107.587332 176.88028 \r\nL 113.798835 176.88028 \r\nL 120.010337 195.818322 \r\nL 126.22184 214.756364 \r\nL 132.433343 176.88028 \r\nL 138.644846 176.88028 \r\nL 144.856349 176.88028 \r\nL 151.067851 176.88028 \r\nL 157.279354 176.88028 \r\nL 163.490857 176.88028 \r\nL 169.70236 176.88028 \r\nL 175.913862 176.88028 \r\nL 182.125365 176.88028 \r\nL 188.336868 176.88028 \r\nL 194.548371 176.88028 \r\nL 200.759874 176.88028 \r\nL 206.971376 176.88028 \r\nL 213.182879 176.88028 \r\nL 219.394382 176.88028 \r\nL 225.605885 176.88028 \r\nL 231.817388 176.88028 \r\nL 238.02889 176.88028 \r\nL 244.240393 214.756364 \r\nL 250.451896 176.88028 \r\nL 256.663399 176.88028 \r\nL 262.874901 176.88028 \r\nL 269.086404 176.88028 \r\nL 275.297907 176.88028 \r\nL 281.50941 176.88028 \r\nL 287.720913 176.88028 \r\nL 293.932415 176.88028 \r\nL 300.143918 176.88028 \r\nL 306.355421 176.88028 \r\nL 312.566924 176.88028 \r\nL 318.778426 176.88028 \r\nL 324.989929 176.88028 \r\nL 331.201432 176.88028 \r\nL 337.412935 176.88028 \r\nL 343.624438 176.88028 \r\nL 349.83594 176.88028 \r\nL 356.047443 176.88028 \r\n\" style=\"fill:none;stroke:#ff7f0e;stroke-linecap:square;stroke-width:1.5;\"/>\r\n   </g>\r\n   <g id=\"patch_3\">\r\n    <path d=\"M 36.465625 224.64 \r\nL 36.465625 7.2 \r\n\" style=\"fill:none;stroke:#000000;stroke-linecap:square;stroke-linejoin:miter;stroke-width:0.8;\"/>\r\n   </g>\r\n   <g id=\"patch_4\">\r\n    <path d=\"M 371.265625 224.64 \r\nL 371.265625 7.2 \r\n\" style=\"fill:none;stroke:#000000;stroke-linecap:square;stroke-linejoin:miter;stroke-width:0.8;\"/>\r\n   </g>\r\n   <g id=\"patch_5\">\r\n    <path d=\"M 36.465625 224.64 \r\nL 371.265625 224.64 \r\n\" style=\"fill:none;stroke:#000000;stroke-linecap:square;stroke-linejoin:miter;stroke-width:0.8;\"/>\r\n   </g>\r\n   <g id=\"patch_6\">\r\n    <path d=\"M 36.465625 7.2 \r\nL 371.265625 7.2 \r\n\" style=\"fill:none;stroke:#000000;stroke-linecap:square;stroke-linejoin:miter;stroke-width:0.8;\"/>\r\n   </g>\r\n   <g id=\"legend_1\">\r\n    <g id=\"patch_7\">\r\n     <path d=\"M 43.465625 219.64 \r\nL 98.740625 219.64 \r\nQ 100.740625 219.64 100.740625 217.64 \r\nL 100.740625 189.28375 \r\nQ 100.740625 187.28375 98.740625 187.28375 \r\nL 43.465625 187.28375 \r\nQ 41.465625 187.28375 41.465625 189.28375 \r\nL 41.465625 217.64 \r\nQ 41.465625 219.64 43.465625 219.64 \r\nz\r\n\" style=\"fill:#ffffff;opacity:0.8;stroke:#cccccc;stroke-linejoin:miter;\"/>\r\n    </g>\r\n    <g id=\"line2d_17\">\r\n     <path d=\"M 45.465625 195.382187 \r\nL 65.465625 195.382187 \r\n\" style=\"fill:none;stroke:#1f77b4;stroke-linecap:square;stroke-width:1.5;\"/>\r\n    </g>\r\n    <g id=\"line2d_18\"/>\r\n    <g id=\"text_15\">\r\n     <!-- train -->\r\n     <g transform=\"translate(73.465625 198.882187)scale(0.1 -0.1)\">\r\n      <defs>\r\n       <path d=\"M 18.3125 70.21875 \r\nL 18.3125 54.6875 \r\nL 36.8125 54.6875 \r\nL 36.8125 47.703125 \r\nL 18.3125 47.703125 \r\nL 18.3125 18.015625 \r\nQ 18.3125 11.328125 20.140625 9.421875 \r\nQ 21.96875 7.515625 27.59375 7.515625 \r\nL 36.8125 7.515625 \r\nL 36.8125 0 \r\nL 27.59375 0 \r\nQ 17.1875 0 13.234375 3.875 \r\nQ 9.28125 7.765625 9.28125 18.015625 \r\nL 9.28125 47.703125 \r\nL 2.6875 47.703125 \r\nL 2.6875 54.6875 \r\nL 9.28125 54.6875 \r\nL 9.28125 70.21875 \r\nz\r\n\" id=\"DejaVuSans-116\"/>\r\n       <path d=\"M 41.109375 46.296875 \r\nQ 39.59375 47.171875 37.8125 47.578125 \r\nQ 36.03125 48 33.890625 48 \r\nQ 26.265625 48 22.1875 43.046875 \r\nQ 18.109375 38.09375 18.109375 28.8125 \r\nL 18.109375 0 \r\nL 9.078125 0 \r\nL 9.078125 54.6875 \r\nL 18.109375 54.6875 \r\nL 18.109375 46.1875 \r\nQ 20.953125 51.171875 25.484375 53.578125 \r\nQ 30.03125 56 36.53125 56 \r\nQ 37.453125 56 38.578125 55.875 \r\nQ 39.703125 55.765625 41.0625 55.515625 \r\nz\r\n\" id=\"DejaVuSans-114\"/>\r\n       <path d=\"M 34.28125 27.484375 \r\nQ 23.390625 27.484375 19.1875 25 \r\nQ 14.984375 22.515625 14.984375 16.5 \r\nQ 14.984375 11.71875 18.140625 8.90625 \r\nQ 21.296875 6.109375 26.703125 6.109375 \r\nQ 34.1875 6.109375 38.703125 11.40625 \r\nQ 43.21875 16.703125 43.21875 25.484375 \r\nL 43.21875 27.484375 \r\nz\r\nM 52.203125 31.203125 \r\nL 52.203125 0 \r\nL 43.21875 0 \r\nL 43.21875 8.296875 \r\nQ 40.140625 3.328125 35.546875 0.953125 \r\nQ 30.953125 -1.421875 24.3125 -1.421875 \r\nQ 15.921875 -1.421875 10.953125 3.296875 \r\nQ 6 8.015625 6 15.921875 \r\nQ 6 25.140625 12.171875 29.828125 \r\nQ 18.359375 34.515625 30.609375 34.515625 \r\nL 43.21875 34.515625 \r\nL 43.21875 35.40625 \r\nQ 43.21875 41.609375 39.140625 45 \r\nQ 35.0625 48.390625 27.6875 48.390625 \r\nQ 23 48.390625 18.546875 47.265625 \r\nQ 14.109375 46.140625 10.015625 43.890625 \r\nL 10.015625 52.203125 \r\nQ 14.9375 54.109375 19.578125 55.046875 \r\nQ 24.21875 56 28.609375 56 \r\nQ 40.484375 56 46.34375 49.84375 \r\nQ 52.203125 43.703125 52.203125 31.203125 \r\nz\r\n\" id=\"DejaVuSans-97\"/>\r\n       <path d=\"M 9.421875 54.6875 \r\nL 18.40625 54.6875 \r\nL 18.40625 0 \r\nL 9.421875 0 \r\nz\r\nM 9.421875 75.984375 \r\nL 18.40625 75.984375 \r\nL 18.40625 64.59375 \r\nL 9.421875 64.59375 \r\nz\r\n\" id=\"DejaVuSans-105\"/>\r\n       <path d=\"M 54.890625 33.015625 \r\nL 54.890625 0 \r\nL 45.90625 0 \r\nL 45.90625 32.71875 \r\nQ 45.90625 40.484375 42.875 44.328125 \r\nQ 39.84375 48.1875 33.796875 48.1875 \r\nQ 26.515625 48.1875 22.3125 43.546875 \r\nQ 18.109375 38.921875 18.109375 30.90625 \r\nL 18.109375 0 \r\nL 9.078125 0 \r\nL 9.078125 54.6875 \r\nL 18.109375 54.6875 \r\nL 18.109375 46.1875 \r\nQ 21.34375 51.125 25.703125 53.5625 \r\nQ 30.078125 56 35.796875 56 \r\nQ 45.21875 56 50.046875 50.171875 \r\nQ 54.890625 44.34375 54.890625 33.015625 \r\nz\r\n\" id=\"DejaVuSans-110\"/>\r\n      </defs>\r\n      <use xlink:href=\"#DejaVuSans-116\"/>\r\n      <use x=\"39.208984\" xlink:href=\"#DejaVuSans-114\"/>\r\n      <use x=\"80.322266\" xlink:href=\"#DejaVuSans-97\"/>\r\n      <use x=\"141.601562\" xlink:href=\"#DejaVuSans-105\"/>\r\n      <use x=\"169.384766\" xlink:href=\"#DejaVuSans-110\"/>\r\n     </g>\r\n    </g>\r\n    <g id=\"line2d_19\">\r\n     <path d=\"M 45.465625 210.060312 \r\nL 65.465625 210.060312 \r\n\" style=\"fill:none;stroke:#ff7f0e;stroke-linecap:square;stroke-width:1.5;\"/>\r\n    </g>\r\n    <g id=\"line2d_20\"/>\r\n    <g id=\"text_16\">\r\n     <!-- test -->\r\n     <g transform=\"translate(73.465625 213.560312)scale(0.1 -0.1)\">\r\n      <defs>\r\n       <path d=\"M 56.203125 29.59375 \r\nL 56.203125 25.203125 \r\nL 14.890625 25.203125 \r\nQ 15.484375 15.921875 20.484375 11.0625 \r\nQ 25.484375 6.203125 34.421875 6.203125 \r\nQ 39.59375 6.203125 44.453125 7.46875 \r\nQ 49.3125 8.734375 54.109375 11.28125 \r\nL 54.109375 2.78125 \r\nQ 49.265625 0.734375 44.1875 -0.34375 \r\nQ 39.109375 -1.421875 33.890625 -1.421875 \r\nQ 20.796875 -1.421875 13.15625 6.1875 \r\nQ 5.515625 13.8125 5.515625 26.8125 \r\nQ 5.515625 40.234375 12.765625 48.109375 \r\nQ 20.015625 56 32.328125 56 \r\nQ 43.359375 56 49.78125 48.890625 \r\nQ 56.203125 41.796875 56.203125 29.59375 \r\nz\r\nM 47.21875 32.234375 \r\nQ 47.125 39.59375 43.09375 43.984375 \r\nQ 39.0625 48.390625 32.421875 48.390625 \r\nQ 24.90625 48.390625 20.390625 44.140625 \r\nQ 15.875 39.890625 15.1875 32.171875 \r\nz\r\n\" id=\"DejaVuSans-101\"/>\r\n       <path d=\"M 44.28125 53.078125 \r\nL 44.28125 44.578125 \r\nQ 40.484375 46.53125 36.375 47.5 \r\nQ 32.28125 48.484375 27.875 48.484375 \r\nQ 21.1875 48.484375 17.84375 46.4375 \r\nQ 14.5 44.390625 14.5 40.28125 \r\nQ 14.5 37.15625 16.890625 35.375 \r\nQ 19.28125 33.59375 26.515625 31.984375 \r\nL 29.59375 31.296875 \r\nQ 39.15625 29.25 43.1875 25.515625 \r\nQ 47.21875 21.78125 47.21875 15.09375 \r\nQ 47.21875 7.46875 41.1875 3.015625 \r\nQ 35.15625 -1.421875 24.609375 -1.421875 \r\nQ 20.21875 -1.421875 15.453125 -0.5625 \r\nQ 10.6875 0.296875 5.421875 2 \r\nL 5.421875 11.28125 \r\nQ 10.40625 8.6875 15.234375 7.390625 \r\nQ 20.0625 6.109375 24.8125 6.109375 \r\nQ 31.15625 6.109375 34.5625 8.28125 \r\nQ 37.984375 10.453125 37.984375 14.40625 \r\nQ 37.984375 18.0625 35.515625 20.015625 \r\nQ 33.0625 21.96875 24.703125 23.78125 \r\nL 21.578125 24.515625 \r\nQ 13.234375 26.265625 9.515625 29.90625 \r\nQ 5.8125 33.546875 5.8125 39.890625 \r\nQ 5.8125 47.609375 11.28125 51.796875 \r\nQ 16.75 56 26.8125 56 \r\nQ 31.78125 56 36.171875 55.265625 \r\nQ 40.578125 54.546875 44.28125 53.078125 \r\nz\r\n\" id=\"DejaVuSans-115\"/>\r\n      </defs>\r\n      <use xlink:href=\"#DejaVuSans-116\"/>\r\n      <use x=\"39.208984\" xlink:href=\"#DejaVuSans-101\"/>\r\n      <use x=\"100.732422\" xlink:href=\"#DejaVuSans-115\"/>\r\n      <use x=\"152.832031\" xlink:href=\"#DejaVuSans-116\"/>\r\n     </g>\r\n    </g>\r\n   </g>\r\n  </g>\r\n </g>\r\n <defs>\r\n  <clipPath id=\"pbe17d8a7c8\">\r\n   <rect height=\"217.44\" width=\"334.8\" x=\"36.465625\" y=\"7.2\"/>\r\n  </clipPath>\r\n </defs>\r\n</svg>\r\n",
      "image/png": "[encoded data removed]"
     },
     "metadata": {
      "needs_background": "light"
     }
    }
   ],
   "source": [
    "model = Sequential()\n",
    "model.add(LSTM(128, input_shape=(train_X.shape[1], train_X.shape[2]), return_sequences = True))\n",
    "model.add(Dense(1, activation = 'sigmoid'))\n",
    "\n",
    "\n",
    "model.compile(optimizer='adam', loss='binary_crossentropy', metrics=['accuracy'])\n",
    "history = model.fit(train_X, train_y,\n",
    "                validation_data = (test_X, test_y),\n",
    "                batch_size=batch_size,\n",
    "                epochs=epochs)\n",
    "            \n",
    "plt.plot(history.history['accuracy'], label = 'train')\n",
    "plt.plot(history.history['val_accuracy'], label = 'test')\n",
    "plt.legend()\n",
    "plt.show()"
   ]
  },
  {
   "cell_type": "code",
   "execution_count": 94,
   "metadata": {},
   "outputs": [
    {
     "output_type": "stream",
     "name": "stdout",
     "text": [
      "Model: \"sequential_8\"\n_________________________________________________________________\nLayer (type)                 Output Shape              Param #   \n=================================================================\nlstm_8 (LSTM)                (None, 1, 128)            69632     \n_________________________________________________________________\nattention_score_vec (Dense)  (None, 1, 128)            16384     \n_________________________________________________________________\nlast_hidden_state (Lambda)   (None, 128)               0         \n_________________________________________________________________\nattention_score (Dot)        (None, 1)                 0         \n_________________________________________________________________\nattention_weight (Activation (None, 1)                 0         \n_________________________________________________________________\ncontext_vector (Dot)         (None, 128)               0         \n_________________________________________________________________\nattention_output (Concatenat (None, 256)               0         \n_________________________________________________________________\nattention_vector (Dense)     (None, 128)               32768     \n_________________________________________________________________\ndense_8 (Dense)              (None, 1)                 129       \n=================================================================\nTotal params: 118,913\nTrainable params: 118,913\nNon-trainable params: 0\n_________________________________________________________________\n"
     ]
    }
   ],
   "source": [
    "model.summary()"
   ]
  },
  {
   "cell_type": "code",
   "execution_count": 95,
   "metadata": {},
   "outputs": [
    {
     "output_type": "stream",
     "name": "stdout",
     "text": [
      "WARNING:tensorflow:5 out of the last 19 calls to <function Model.make_predict_function.<locals>.predict_function at 0x0000025C46E23AE8> triggered tf.function retracing. Tracing is expensive and the excessive number of tracings could be due to (1) creating @tf.function repeatedly in a loop, (2) passing tensors with different shapes, (3) passing Python objects instead of tensors. For (1), please define your @tf.function outside of the loop. For (2), @tf.function has experimental_relax_shapes=True option that relaxes argument shapes that can avoid unnecessary retracing. For (3), please refer to https://www.tensorflow.org/guide/function#controlling_retracing and https://www.tensorflow.org/api_docs/python/tf/function for  more details.\n",
      "              precision    recall  f1-score   support\n",
      "\n",
      "         0.0       0.00      0.00      0.00        34\n",
      "         1.0       0.53      1.00      0.69        38\n",
      "\n",
      "    accuracy                           0.53        72\n",
      "   macro avg       0.26      0.50      0.35        72\n",
      "weighted avg       0.28      0.53      0.36        72\n",
      "\n"
     ]
    }
   ],
   "source": [
    "predictions = (model.predict(test_X) >= 0.5).astype(\"int\")\n",
    "from sklearn.metrics import classification_report\n",
    "print(classification_report(test_y, predictions))"
   ]
  },
  {
   "source": [
    "### SA LSTM"
   ],
   "cell_type": "markdown",
   "metadata": {}
  },
  {
   "cell_type": "code",
   "execution_count": 92,
   "metadata": {},
   "outputs": [],
   "source": [
    "#https://github.com/philipperemy/keras-attention-mechanism\n",
    "class Attention(Layer):\n",
    "\n",
    "    def __init__(self, **kwargs):\n",
    "        super().__init__(**kwargs)\n",
    "\n",
    "    def __call__(self, hidden_states):\n",
    "        hidden_size = int(hidden_states.shape[2])\n",
    "        score_first_part = Dense(hidden_size, use_bias=False, name='attention_score_vec')(hidden_states)\n",
    "        h_t = Lambda(lambda x: x[:, -1, :], output_shape=(hidden_size,), name='last_hidden_state')(hidden_states)\n",
    "        score = dot([score_first_part, h_t], [2, 1], name='attention_score')\n",
    "        attention_weights = Activation('softmax', name='attention_weight')(score)\n",
    "        context_vector = dot([hidden_states, attention_weights], [1, 1], name='context_vector')\n",
    "        pre_activation = concatenate([context_vector, h_t], name='attention_output')\n",
    "        attention_vector = Dense(128, use_bias=False, activation='tanh', name='attention_vector')(pre_activation)\n",
    "        return attention_vector"
   ]
  },
  {
   "cell_type": "code",
   "execution_count": 99,
   "metadata": {},
   "outputs": [
    {
     "output_type": "stream",
     "name": "stdout",
     "text": [
      "[7, 8, 9, 10, 11, 12, 13, 14]\n"
     ]
    },
    {
     "output_type": "execute_result",
     "data": {
      "text/plain": [
       "     var1(t-1)  var2(t-1)  var3(t-1)  var4(t-1)  var5(t-1)  var6(t-1)  \\\n",
       "1     0.661111   0.669722   0.688497   0.680923   0.108971   0.680923   \n",
       "2     0.654886   0.670211   0.683352   0.688726   0.142928   0.688726   \n",
       "3     0.672063   0.668844   0.695238   0.682513   0.102443   0.682513   \n",
       "4     0.669752   0.684542   0.698071   0.693347   0.150400   0.693347   \n",
       "5     0.689141   0.690570   0.716111   0.708127   0.137234   0.708127   \n",
       "..         ...        ...        ...        ...        ...        ...   \n",
       "237   1.000000   1.000000   0.981272   0.979909   0.388030   0.979909   \n",
       "238   0.966897   0.975986   0.971010   0.976687   0.293604   0.976687   \n",
       "239   0.964742   0.967074   0.963139   0.973520   0.253533   0.973520   \n",
       "240   0.978301   0.989530   0.971451   0.962617   0.289882   0.962617   \n",
       "241   0.972041   0.987887   0.980658   0.994791   0.252437   0.994791   \n",
       "\n",
       "     var7(t-1)  var8(t)  \n",
       "1     0.240787      1.0  \n",
       "2     0.591807      0.0  \n",
       "3     0.559621      1.0  \n",
       "4     0.738643      1.0  \n",
       "5     0.520958      0.0  \n",
       "..         ...      ...  \n",
       "237   0.373091      0.0  \n",
       "238   0.017883      0.0  \n",
       "239   0.367536      0.0  \n",
       "240   0.663182      1.0  \n",
       "241   0.477917      1.0  \n",
       "\n",
       "[241 rows x 8 columns]"
      ],
      "text/html": "<div>\n<style scoped>\n    .dataframe tbody tr th:only-of-type {\n        vertical-align: middle;\n    }\n\n    .dataframe tbody tr th {\n        vertical-align: top;\n    }\n\n    .dataframe thead th {\n        text-align: right;\n    }\n</style>\n<table border=\"1\" class=\"dataframe\">\n  <thead>\n    <tr style=\"text-align: right;\">\n      <th></th>\n      <th>var1(t-1)</th>\n      <th>var2(t-1)</th>\n      <th>var3(t-1)</th>\n      <th>var4(t-1)</th>\n      <th>var5(t-1)</th>\n      <th>var6(t-1)</th>\n      <th>var7(t-1)</th>\n      <th>var8(t)</th>\n    </tr>\n  </thead>\n  <tbody>\n    <tr>\n      <th>1</th>\n      <td>0.661111</td>\n      <td>0.669722</td>\n      <td>0.688497</td>\n      <td>0.680923</td>\n      <td>0.108971</td>\n      <td>0.680923</td>\n      <td>0.240787</td>\n      <td>1.0</td>\n    </tr>\n    <tr>\n      <th>2</th>\n      <td>0.654886</td>\n      <td>0.670211</td>\n      <td>0.683352</td>\n      <td>0.688726</td>\n      <td>0.142928</td>\n      <td>0.688726</td>\n      <td>0.591807</td>\n      <td>0.0</td>\n    </tr>\n    <tr>\n      <th>3</th>\n      <td>0.672063</td>\n      <td>0.668844</td>\n      <td>0.695238</td>\n      <td>0.682513</td>\n      <td>0.102443</td>\n      <td>0.682513</td>\n      <td>0.559621</td>\n      <td>1.0</td>\n    </tr>\n    <tr>\n      <th>4</th>\n      <td>0.669752</td>\n      <td>0.684542</td>\n      <td>0.698071</td>\n      <td>0.693347</td>\n      <td>0.150400</td>\n      <td>0.693347</td>\n      <td>0.738643</td>\n      <td>1.0</td>\n    </tr>\n    <tr>\n      <th>5</th>\n      <td>0.689141</td>\n      <td>0.690570</td>\n      <td>0.716111</td>\n      <td>0.708127</td>\n      <td>0.137234</td>\n      <td>0.708127</td>\n      <td>0.520958</td>\n      <td>0.0</td>\n    </tr>\n    <tr>\n      <th>...</th>\n      <td>...</td>\n      <td>...</td>\n      <td>...</td>\n      <td>...</td>\n      <td>...</td>\n      <td>...</td>\n      <td>...</td>\n      <td>...</td>\n    </tr>\n    <tr>\n      <th>237</th>\n      <td>1.000000</td>\n      <td>1.000000</td>\n      <td>0.981272</td>\n      <td>0.979909</td>\n      <td>0.388030</td>\n      <td>0.979909</td>\n      <td>0.373091</td>\n      <td>0.0</td>\n    </tr>\n    <tr>\n      <th>238</th>\n      <td>0.966897</td>\n      <td>0.975986</td>\n      <td>0.971010</td>\n      <td>0.976687</td>\n      <td>0.293604</td>\n      <td>0.976687</td>\n      <td>0.017883</td>\n      <td>0.0</td>\n    </tr>\n    <tr>\n      <th>239</th>\n      <td>0.964742</td>\n      <td>0.967074</td>\n      <td>0.963139</td>\n      <td>0.973520</td>\n      <td>0.253533</td>\n      <td>0.973520</td>\n      <td>0.367536</td>\n      <td>0.0</td>\n    </tr>\n    <tr>\n      <th>240</th>\n      <td>0.978301</td>\n      <td>0.989530</td>\n      <td>0.971451</td>\n      <td>0.962617</td>\n      <td>0.289882</td>\n      <td>0.962617</td>\n      <td>0.663182</td>\n      <td>1.0</td>\n    </tr>\n    <tr>\n      <th>241</th>\n      <td>0.972041</td>\n      <td>0.987887</td>\n      <td>0.980658</td>\n      <td>0.994791</td>\n      <td>0.252437</td>\n      <td>0.994791</td>\n      <td>0.477917</td>\n      <td>1.0</td>\n    </tr>\n  </tbody>\n</table>\n<p>241 rows × 8 columns</p>\n</div>"
     },
     "metadata": {},
     "execution_count": 99
    }
   ],
   "source": [
    "merged_sim  = merged[ ['Open', 'High', 'Low', 'Adj Close', 'Volume','Close', 'sentimentIndex','Direction']]\n",
    "\n",
    "n_days = 1\n",
    "n_features = 8\n",
    "dataset = merged_sim.values\n",
    "dataset = dataset.astype('float32')\n",
    "scaler = MinMaxScaler(feature_range=(0, 1))\n",
    "dataset = scaler.fit_transform(dataset)\n",
    "dataset = series_to_supervised(dataset, n_days,1)\n",
    "\n",
    "droplist = []\n",
    "for i in range(n_features*n_days-1, n_features*n_days + 7):\n",
    "    droplist.append(i)\n",
    "print(droplist)\n",
    "dataset.drop(dataset.columns[droplist], axis = 1, inplace = True)\n",
    "dataset"
   ]
  },
  {
   "cell_type": "code",
   "execution_count": null,
   "metadata": {},
   "outputs": [],
   "source": []
  }
 ]
}