{
 "metadata": {
  "language_info": {
   "codemirror_mode": {
    "name": "ipython",
    "version": 3
   },
   "file_extension": ".py",
   "mimetype": "text/x-python",
   "name": "python",
   "nbconvert_exporter": "python",
   "pygments_lexer": "ipython3",
   "version": "3.6.10-final"
  },
  "orig_nbformat": 2,
  "kernelspec": {
   "name": "python3",
   "display_name": "Python 3",
   "language": "python"
  }
 },
 "nbformat": 4,
 "nbformat_minor": 2,
 "cells": [
  {
   "cell_type": "code",
   "execution_count": 1,
   "metadata": {},
   "outputs": [
    {
     "output_type": "stream",
     "name": "stdout",
     "text": [
      "Collecting yfinance\n",
      "  Downloading yfinance-0.1.55.tar.gz (23 kB)\n",
      "Requirement already satisfied: pandas>=0.24 in f:\\anaconda3\\lib\\site-packages (from yfinance) (1.1.5)\n",
      "Requirement already satisfied: numpy>=1.15 in c:\\users\\emu4y\\appdata\\roaming\\python\\python36\\site-packages (from yfinance) (1.19.4)\n",
      "Requirement already satisfied: requests>=2.20 in c:\\users\\emu4y\\appdata\\roaming\\python\\python36\\site-packages (from yfinance) (2.25.0)\n",
      "Requirement already satisfied: lxml>=4.5.1 in f:\\anaconda3\\lib\\site-packages (from yfinance) (4.6.2)\n",
      "Collecting multitasking>=0.0.7\n",
      "  Downloading multitasking-0.0.9.tar.gz (8.1 kB)\n",
      "Requirement already satisfied: python-dateutil>=2.7.3 in f:\\anaconda3\\lib\\site-packages (from pandas>=0.24->yfinance) (2.8.1)\n",
      "Requirement already satisfied: pytz>=2017.2 in f:\\anaconda3\\lib\\site-packages (from pandas>=0.24->yfinance) (2020.4)\n",
      "Requirement already satisfied: six>=1.5 in c:\\users\\emu4y\\appdata\\roaming\\python\\python36\\site-packages (from python-dateutil>=2.7.3->pandas>=0.24->yfinance) (1.15.0)\n",
      "Requirement already satisfied: urllib3<1.27,>=1.21.1 in c:\\users\\emu4y\\appdata\\roaming\\python\\python36\\site-packages (from requests>=2.20->yfinance) (1.26.2)\n",
      "Requirement already satisfied: certifi>=2017.4.17 in c:\\users\\emu4y\\appdata\\roaming\\python\\python36\\site-packages (from requests>=2.20->yfinance) (2020.12.5)\n",
      "Requirement already satisfied: idna<3,>=2.5 in c:\\users\\emu4y\\appdata\\roaming\\python\\python36\\site-packages (from requests>=2.20->yfinance) (2.10)\n",
      "Requirement already satisfied: chardet<4,>=3.0.2 in c:\\users\\emu4y\\appdata\\roaming\\python\\python36\\site-packages (from requests>=2.20->yfinance) (3.0.4)\n",
      "Building wheels for collected packages: yfinance, multitasking\n",
      "  Building wheel for yfinance (setup.py): started\n",
      "  Building wheel for yfinance (setup.py): finished with status 'done'\n",
      "  Created wheel for yfinance: filename=yfinance-0.1.55-py2.py3-none-any.whl size=22616 sha256=a82ae74b80d094d4100c3a27946bfe3bc11ba43e2de63f8c20d70de89febfde4\n",
      "  Stored in directory: c:\\users\\emu4y\\appdata\\local\\pip\\cache\\wheels\\68\\72\\87\\a384b8b8139f2489024464d6f5937e6acb2054c57d25519fb9\n",
      "  Building wheel for multitasking (setup.py): started\n",
      "  Building wheel for multitasking (setup.py): finished with status 'done'\n",
      "  Created wheel for multitasking: filename=multitasking-0.0.9-py3-none-any.whl size=8368 sha256=27aac907914276e6cb2c6752931047f7e8d0e79e2679c358564792b0061939c1\n",
      "  Stored in directory: c:\\users\\emu4y\\appdata\\local\\pip\\cache\\wheels\\5e\\8a\\c4\\59c699498647c7c94b14c87a904ca7540646107b3d94b7c320\n",
      "Successfully built yfinance multitasking\n",
      "Installing collected packages: multitasking, yfinance\n",
      "Successfully installed multitasking-0.0.9 yfinance-0.1.55\n",
      "[*********************100%***********************]  1 of 1 completed\n"
     ]
    }
   ],
   "source": [
    "!pip install yfinance\n",
    "import yfinance as yf   \n",
    "import pandas as pd\n",
    " \n",
    "data = yf.download('^GSPC','2020-07-13','2020-12-16') \n",
    "data.to_csv(\"S&PFinanceData2020.csv\")"
   ]
  },
  {
   "cell_type": "code",
   "execution_count": null,
   "metadata": {},
   "outputs": [],
   "source": []
  }
 ]
}