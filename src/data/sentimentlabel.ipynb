{
 "metadata": {
  "language_info": {
   "codemirror_mode": {
    "name": "ipython",
    "version": 3
   },
   "file_extension": ".py",
   "mimetype": "text/x-python",
   "name": "python",
   "nbconvert_exporter": "python",
   "pygments_lexer": "ipython3",
   "version": "3.6.10-final"
  },
  "orig_nbformat": 2,
  "kernelspec": {
   "name": "python3",
   "display_name": "Python 3",
   "language": "python"
  }
 },
 "nbformat": 4,
 "nbformat_minor": 2,
 "cells": [
  {
   "cell_type": "code",
   "execution_count": 1,
   "metadata": {},
   "outputs": [],
   "source": [
    "from bs4 import BeautifulSoup\n",
    "import pandas as pd\n",
    "import requests"
   ]
  },
  {
   "cell_type": "code",
   "execution_count": 2,
   "metadata": {},
   "outputs": [],
   "source": [
    "df = pd.read_csv('F:/ASDRP/stocktwits_SPX.csv')"
   ]
  },
  {
   "cell_type": "code",
   "execution_count": 10,
   "metadata": {},
   "outputs": [
    {
     "output_type": "execute_result",
     "data": {
      "text/plain": [
       "  symbol                                            message  \\\n",
       "1    SPX  $SPX עליות קלות -  אופטימיות קלה. הסקירה- היום...   \n",
       "2    SPX  S&amp;P 500 Stocks At X-Day High [24-Dec]:\\n\\n...   \n",
       "3    SPX  S&amp;P 500 Stocks At X-Day High [24-Dec]:\\n\\n...   \n",
       "4    SPX  $SPY $SPX $DJIA $DIA $NDX FUTURES BRIGHT RED S...   \n",
       "5    SPX  $SPX $SPY Going into January... Note,\\nFANG’s ...   \n",
       "\n",
       "               datetime     user message_id  \n",
       "1  2020-12-25T06:44:13Z  1820165  267252252  \n",
       "2  2020-12-25T03:49:48Z   313661  267243764  \n",
       "3  2020-12-25T01:49:36Z   313661  267235311  \n",
       "4  2020-12-25T01:03:22Z  2895972  267231475  \n",
       "5  2020-12-25T00:13:53Z  1339265  267227256  "
      ],
      "text/html": "<div>\n<style scoped>\n    .dataframe tbody tr th:only-of-type {\n        vertical-align: middle;\n    }\n\n    .dataframe tbody tr th {\n        vertical-align: top;\n    }\n\n    .dataframe thead th {\n        text-align: right;\n    }\n</style>\n<table border=\"1\" class=\"dataframe\">\n  <thead>\n    <tr style=\"text-align: right;\">\n      <th></th>\n      <th>symbol</th>\n      <th>message</th>\n      <th>datetime</th>\n      <th>user</th>\n      <th>message_id</th>\n    </tr>\n  </thead>\n  <tbody>\n    <tr>\n      <th>1</th>\n      <td>SPX</td>\n      <td>$SPX עליות קלות -  אופטימיות קלה. הסקירה- היום...</td>\n      <td>2020-12-25T06:44:13Z</td>\n      <td>1820165</td>\n      <td>267252252</td>\n    </tr>\n    <tr>\n      <th>2</th>\n      <td>SPX</td>\n      <td>S&amp;amp;P 500 Stocks At X-Day High [24-Dec]:\\n\\n...</td>\n      <td>2020-12-25T03:49:48Z</td>\n      <td>313661</td>\n      <td>267243764</td>\n    </tr>\n    <tr>\n      <th>3</th>\n      <td>SPX</td>\n      <td>S&amp;amp;P 500 Stocks At X-Day High [24-Dec]:\\n\\n...</td>\n      <td>2020-12-25T01:49:36Z</td>\n      <td>313661</td>\n      <td>267235311</td>\n    </tr>\n    <tr>\n      <th>4</th>\n      <td>SPX</td>\n      <td>$SPY $SPX $DJIA $DIA $NDX FUTURES BRIGHT RED S...</td>\n      <td>2020-12-25T01:03:22Z</td>\n      <td>2895972</td>\n      <td>267231475</td>\n    </tr>\n    <tr>\n      <th>5</th>\n      <td>SPX</td>\n      <td>$SPX $SPY Going into January... Note,\\nFANG’s ...</td>\n      <td>2020-12-25T00:13:53Z</td>\n      <td>1339265</td>\n      <td>267227256</td>\n    </tr>\n  </tbody>\n</table>\n</div>"
     },
     "metadata": {},
     "execution_count": 10
    }
   ],
   "source": [
    "df = df.iloc[1:]\n",
    "df.head()"
   ]
  },
  {
   "cell_type": "code",
   "execution_count": 3,
   "metadata": {},
   "outputs": [
    {
     "output_type": "execute_result",
     "data": {
      "text/plain": [
       "symbol                                                      SPX\n",
       "message       US Stocks At 5-Day Low [8-Oct]:\\n\\n$DJIA: 30% ...\n",
       "datetime                                   2019-10-09T07:33:37Z\n",
       "user                                                     313661\n",
       "message_id                                            179863644\n",
       "Name: 116129, dtype: object"
      ]
     },
     "metadata": {},
     "execution_count": 3
    }
   ],
   "source": [
    "df.iloc[105538+10591]"
   ]
  },
  {
   "cell_type": "code",
   "execution_count": 4,
   "metadata": {
    "tags": []
   },
   "outputs": [],
   "source": [
    "bullBear = []\n",
    "path = 'https://stocktwits.com/message/'\n",
    "with open('output4.txt', 'a') as text_file:\n",
    "    for i in df['message_id'][116129:]:\n",
    "        url = path + str(i)\n",
    "        r = requests.get(url)\n",
    "        data = r.text\n",
    "        soup = BeautifulSoup(data)\n",
    "        mydivs = soup.findAll(\"div\", {\"class\": \"lib_XwnOHoV lib_3UzYkI9 lib_lPsmyQd lib_2TK8fEo\"})\n",
    "        if len(mydivs) == 0:\n",
    "            bullBear.append('')\n",
    "            text_file.write('\\n')\n",
    "        elif mydivs[0].text == 'Bullish':\n",
    "            bullBear.append('1')\n",
    "            text_file.write('1\\n')\n",
    "        elif mydivs[0].text == 'Bearish':\n",
    "            bullBear.append('0')\n",
    "            text_file.write('0\\n')"
   ]
  },
  {
   "cell_type": "code",
   "execution_count": 5,
   "metadata": {},
   "outputs": [],
   "source": [
    "arr = []\n",
    "strarr = ''\n",
    "with open('output3.txt', 'r') as text_file:\n",
    "    for i in text_file:\n",
    "        strarr += i\n",
    "with open('output2.txt', 'r') as text_file:\n",
    "    for i in text_file:\n",
    "        strarr += i\n",
    "with open('output4.txt', 'r') as text_file:\n",
    "    for i in text_file:\n",
    "        strarr += i"
   ]
  },
  {
   "cell_type": "code",
   "execution_count": 6,
   "metadata": {},
   "outputs": [],
   "source": [
    "arr = strarr.split('\\n')"
   ]
  },
  {
   "cell_type": "code",
   "execution_count": 7,
   "metadata": {},
   "outputs": [
    {
     "output_type": "execute_result",
     "data": {
      "text/plain": [
       "162445"
      ]
     },
     "metadata": {},
     "execution_count": 7
    }
   ],
   "source": [
    "arr = arr[0:-1]\n",
    "len(arr)"
   ]
  },
  {
   "cell_type": "code",
   "execution_count": 11,
   "metadata": {},
   "outputs": [],
   "source": [
    "df['sentiment'] = arr"
   ]
  },
  {
   "cell_type": "code",
   "execution_count": 12,
   "metadata": {},
   "outputs": [
    {
     "output_type": "execute_result",
     "data": {
      "text/plain": [
       "  symbol                                            message  \\\n",
       "1    SPX  $SPX עליות קלות -  אופטימיות קלה. הסקירה- היום...   \n",
       "2    SPX  S&amp;P 500 Stocks At X-Day High [24-Dec]:\\n\\n...   \n",
       "3    SPX  S&amp;P 500 Stocks At X-Day High [24-Dec]:\\n\\n...   \n",
       "4    SPX  $SPY $SPX $DJIA $DIA $NDX FUTURES BRIGHT RED S...   \n",
       "5    SPX  $SPX $SPY Going into January... Note,\\nFANG’s ...   \n",
       "\n",
       "               datetime     user message_id sentiment  \n",
       "1  2020-12-25T06:44:13Z  1820165  267252252            \n",
       "2  2020-12-25T03:49:48Z   313661  267243764            \n",
       "3  2020-12-25T01:49:36Z   313661  267235311            \n",
       "4  2020-12-25T01:03:22Z  2895972  267231475         0  \n",
       "5  2020-12-25T00:13:53Z  1339265  267227256            "
      ],
      "text/html": "<div>\n<style scoped>\n    .dataframe tbody tr th:only-of-type {\n        vertical-align: middle;\n    }\n\n    .dataframe tbody tr th {\n        vertical-align: top;\n    }\n\n    .dataframe thead th {\n        text-align: right;\n    }\n</style>\n<table border=\"1\" class=\"dataframe\">\n  <thead>\n    <tr style=\"text-align: right;\">\n      <th></th>\n      <th>symbol</th>\n      <th>message</th>\n      <th>datetime</th>\n      <th>user</th>\n      <th>message_id</th>\n      <th>sentiment</th>\n    </tr>\n  </thead>\n  <tbody>\n    <tr>\n      <th>1</th>\n      <td>SPX</td>\n      <td>$SPX עליות קלות -  אופטימיות קלה. הסקירה- היום...</td>\n      <td>2020-12-25T06:44:13Z</td>\n      <td>1820165</td>\n      <td>267252252</td>\n      <td></td>\n    </tr>\n    <tr>\n      <th>2</th>\n      <td>SPX</td>\n      <td>S&amp;amp;P 500 Stocks At X-Day High [24-Dec]:\\n\\n...</td>\n      <td>2020-12-25T03:49:48Z</td>\n      <td>313661</td>\n      <td>267243764</td>\n      <td></td>\n    </tr>\n    <tr>\n      <th>3</th>\n      <td>SPX</td>\n      <td>S&amp;amp;P 500 Stocks At X-Day High [24-Dec]:\\n\\n...</td>\n      <td>2020-12-25T01:49:36Z</td>\n      <td>313661</td>\n      <td>267235311</td>\n      <td></td>\n    </tr>\n    <tr>\n      <th>4</th>\n      <td>SPX</td>\n      <td>$SPY $SPX $DJIA $DIA $NDX FUTURES BRIGHT RED S...</td>\n      <td>2020-12-25T01:03:22Z</td>\n      <td>2895972</td>\n      <td>267231475</td>\n      <td>0</td>\n    </tr>\n    <tr>\n      <th>5</th>\n      <td>SPX</td>\n      <td>$SPX $SPY Going into January... Note,\\nFANG’s ...</td>\n      <td>2020-12-25T00:13:53Z</td>\n      <td>1339265</td>\n      <td>267227256</td>\n      <td></td>\n    </tr>\n  </tbody>\n</table>\n</div>"
     },
     "metadata": {},
     "execution_count": 12
    }
   ],
   "source": [
    "df.head()"
   ]
  },
  {
   "cell_type": "code",
   "execution_count": 13,
   "metadata": {},
   "outputs": [],
   "source": [
    "df.head()\n",
    "df.to_csv('stocktwits_SPXclassified2.csv')"
   ]
  },
  {
   "cell_type": "code",
   "execution_count": null,
   "metadata": {},
   "outputs": [],
   "source": []
  }
 ]
}